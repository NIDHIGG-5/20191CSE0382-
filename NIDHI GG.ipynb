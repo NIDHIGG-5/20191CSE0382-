{
 "cells": [
  {
   "cell_type": "markdown",
   "id": "c2473faf",
   "metadata": {
    "papermill": {
     "duration": 0.040788,
     "end_time": "2021-11-01T09:38:22.267284",
     "exception": false,
     "start_time": "2021-11-01T09:38:22.226496",
     "status": "completed"
    },
    "tags": []
   },
   "source": [
    "1. **Imports**"
   ]
  },
  {
   "cell_type": "markdown",
   "id": "271bd7e9",
   "metadata": {
    "papermill": {
     "duration": 0.039498,
     "end_time": "2021-11-01T09:38:22.347167",
     "exception": false,
     "start_time": "2021-11-01T09:38:22.307669",
     "status": "completed"
    },
    "tags": []
   },
   "source": [
    "Import all necessary libraries.\n",
    "\n",
    "Note: I am not a fan of visualizations(you will rarely find one in my notebook) and I tend to understand the data better when I look at tables and raw numbers."
   ]
  },
  {
   "cell_type": "code",
   "execution_count": 1,
   "id": "de342248",
   "metadata": {
    "execution": {
     "iopub.execute_input": "2021-11-01T09:38:22.430287Z",
     "iopub.status.busy": "2021-11-01T09:38:22.428921Z",
     "iopub.status.idle": "2021-11-01T09:38:23.273558Z",
     "shell.execute_reply": "2021-11-01T09:38:23.272624Z",
     "shell.execute_reply.started": "2021-10-31T14:41:34.742592Z"
    },
    "papermill": {
     "duration": 0.888102,
     "end_time": "2021-11-01T09:38:23.273844",
     "exception": false,
     "start_time": "2021-11-01T09:38:22.385742",
     "status": "completed"
    },
    "tags": []
   },
   "outputs": [],
   "source": [
    "import pandas as pd\n",
    "import numpy as np\n",
    "import seaborn as sns \n",
    "import matplotlib.pyplot as plt"
   ]
  },
  {
   "cell_type": "markdown",
   "id": "07fcfd87",
   "metadata": {
    "papermill": {
     "duration": 0.039143,
     "end_time": "2021-11-01T09:38:23.352734",
     "exception": false,
     "start_time": "2021-11-01T09:38:23.313591",
     "status": "completed"
    },
    "tags": []
   },
   "source": [
    "Read the data into dataframes"
   ]
  },
  {
   "cell_type": "code",
   "execution_count": 2,
   "id": "fb6d7c77",
   "metadata": {
    "execution": {
     "iopub.execute_input": "2021-11-01T09:38:23.436922Z",
     "iopub.status.busy": "2021-11-01T09:38:23.436199Z",
     "iopub.status.idle": "2021-11-01T09:38:23.467653Z",
     "shell.execute_reply": "2021-11-01T09:38:23.468298Z",
     "shell.execute_reply.started": "2021-10-31T14:41:35.603315Z"
    },
    "papermill": {
     "duration": 0.076057,
     "end_time": "2021-11-01T09:38:23.468500",
     "exception": false,
     "start_time": "2021-11-01T09:38:23.392443",
     "status": "completed"
    },
    "tags": []
   },
   "outputs": [],
   "source": [
    "## Reading data to dataframes\n",
    "train = pd.read_csv(\"/kaggle/input/titanic/train.csv\")\n",
    "\n",
    "test = pd.read_csv(\"/kaggle/input/titanic/test.csv\")\n"
   ]
  },
  {
   "cell_type": "markdown",
   "id": "de9fd63f",
   "metadata": {
    "papermill": {
     "duration": 0.039444,
     "end_time": "2021-11-01T09:38:23.547629",
     "exception": false,
     "start_time": "2021-11-01T09:38:23.508185",
     "status": "completed"
    },
    "tags": []
   },
   "source": [
    "**2. Understanding the Data**"
   ]
  },
  {
   "cell_type": "markdown",
   "id": "71abc40e",
   "metadata": {
    "papermill": {
     "duration": 0.045949,
     "end_time": "2021-11-01T09:38:23.633581",
     "exception": false,
     "start_time": "2021-11-01T09:38:23.587632",
     "status": "completed"
    },
    "tags": []
   },
   "source": [
    "I combined both the dataframes for my EDA, this helps you understand and identify pattern better and also find edge cases if any"
   ]
  },
  {
   "cell_type": "code",
   "execution_count": 3,
   "id": "6ce2a6e6",
   "metadata": {
    "execution": {
     "iopub.execute_input": "2021-11-01T09:38:23.735806Z",
     "iopub.status.busy": "2021-11-01T09:38:23.735137Z",
     "iopub.status.idle": "2021-11-01T09:38:23.791174Z",
     "shell.execute_reply": "2021-11-01T09:38:23.791892Z",
     "shell.execute_reply.started": "2021-10-31T14:41:35.636133Z"
    },
    "papermill": {
     "duration": 0.104601,
     "end_time": "2021-11-01T09:38:23.792113",
     "exception": false,
     "start_time": "2021-11-01T09:38:23.687512",
     "status": "completed"
    },
    "tags": []
   },
   "outputs": [
    {
     "name": "stdout",
     "output_type": "stream",
     "text": [
      "<class 'pandas.core.frame.DataFrame'>\n",
      "RangeIndex: 891 entries, 0 to 890\n",
      "Data columns (total 12 columns):\n",
      " #   Column       Non-Null Count  Dtype  \n",
      "---  ------       --------------  -----  \n",
      " 0   PassengerId  891 non-null    int64  \n",
      " 1   Survived     891 non-null    int64  \n",
      " 2   Pclass       891 non-null    int64  \n",
      " 3   Name         891 non-null    object \n",
      " 4   Sex          891 non-null    object \n",
      " 5   Age          714 non-null    float64\n",
      " 6   SibSp        891 non-null    int64  \n",
      " 7   Parch        891 non-null    int64  \n",
      " 8   Ticket       891 non-null    object \n",
      " 9   Fare         891 non-null    float64\n",
      " 10  Cabin        204 non-null    object \n",
      " 11  Embarked     889 non-null    object \n",
      "dtypes: float64(2), int64(5), object(5)\n",
      "memory usage: 83.7+ KB\n",
      "None\n",
      "\n",
      "\n",
      "\n",
      "       PassengerId    Survived      Pclass         Age       SibSp  \\\n",
      "count   891.000000  891.000000  891.000000  714.000000  891.000000   \n",
      "mean    446.000000    0.383838    2.308642   29.699118    0.523008   \n",
      "std     257.353842    0.486592    0.836071   14.526497    1.102743   \n",
      "min       1.000000    0.000000    1.000000    0.420000    0.000000   \n",
      "25%     223.500000    0.000000    2.000000   20.125000    0.000000   \n",
      "50%     446.000000    0.000000    3.000000   28.000000    0.000000   \n",
      "75%     668.500000    1.000000    3.000000   38.000000    1.000000   \n",
      "max     891.000000    1.000000    3.000000   80.000000    8.000000   \n",
      "\n",
      "            Parch        Fare  \n",
      "count  891.000000  891.000000  \n",
      "mean     0.381594   32.204208  \n",
      "std      0.806057   49.693429  \n",
      "min      0.000000    0.000000  \n",
      "25%      0.000000    7.910400  \n",
      "50%      0.000000   14.454200  \n",
      "75%      0.000000   31.000000  \n",
      "max      6.000000  512.329200  \n"
     ]
    }
   ],
   "source": [
    "## Combining test and train df into a isngle dataframe\n",
    "data = pd.DataFrame()\n",
    "data = data.combine(train,test)\n",
    "print(data.info())\n",
    "print(\"\\n\\n\")\n",
    "print(data.describe())"
   ]
  },
  {
   "cell_type": "markdown",
   "id": "fca29277",
   "metadata": {
    "papermill": {
     "duration": 0.039668,
     "end_time": "2021-11-01T09:38:23.933207",
     "exception": false,
     "start_time": "2021-11-01T09:38:23.893539",
     "status": "completed"
    },
    "tags": []
   },
   "source": [
    "This returns the null count from each column of our combined dataset. As can be seen the dataset is fairly good, the majority of nulls lie in the three columns namely: \"Age\",\"Cabin\" and \"Embarked\". It might be a good idea to drop the column \"Cabin\"(approx 75% of the data is missing)."
   ]
  },
  {
   "cell_type": "code",
   "execution_count": 4,
   "id": "d7bed70e",
   "metadata": {
    "execution": {
     "iopub.execute_input": "2021-11-01T09:38:24.019833Z",
     "iopub.status.busy": "2021-11-01T09:38:24.018740Z",
     "iopub.status.idle": "2021-11-01T09:38:24.029712Z",
     "shell.execute_reply": "2021-11-01T09:38:24.030410Z",
     "shell.execute_reply.started": "2021-10-31T14:41:35.689807Z"
    },
    "papermill": {
     "duration": 0.057313,
     "end_time": "2021-11-01T09:38:24.030602",
     "exception": false,
     "start_time": "2021-11-01T09:38:23.973289",
     "status": "completed"
    },
    "tags": []
   },
   "outputs": [
    {
     "data": {
      "text/plain": [
       "PassengerId      0\n",
       "Survived         0\n",
       "Pclass           0\n",
       "Name             0\n",
       "Sex              0\n",
       "Age            177\n",
       "SibSp            0\n",
       "Parch            0\n",
       "Ticket           0\n",
       "Fare             0\n",
       "Cabin          687\n",
       "Embarked         2\n",
       "dtype: int64"
      ]
     },
     "execution_count": 4,
     "metadata": {},
     "output_type": "execute_result"
    }
   ],
   "source": [
    "data.isna().sum()"
   ]
  },
  {
   "cell_type": "markdown",
   "id": "b77fd448",
   "metadata": {
    "papermill": {
     "duration": 0.039922,
     "end_time": "2021-11-01T09:38:24.110612",
     "exception": false,
     "start_time": "2021-11-01T09:38:24.070690",
     "status": "completed"
    },
    "tags": []
   },
   "source": [
    "Creating a table to understand the dependence of numerical features on Survival. It can be deduced that all these features have some correlation on the probability of survival."
   ]
  },
  {
   "cell_type": "code",
   "execution_count": 5,
   "id": "ca157350",
   "metadata": {
    "execution": {
     "iopub.execute_input": "2021-11-01T09:38:24.194433Z",
     "iopub.status.busy": "2021-11-01T09:38:24.193736Z",
     "iopub.status.idle": "2021-11-01T09:38:24.221824Z",
     "shell.execute_reply": "2021-11-01T09:38:24.221218Z",
     "shell.execute_reply.started": "2021-10-31T14:41:35.704221Z"
    },
    "papermill": {
     "duration": 0.070994,
     "end_time": "2021-11-01T09:38:24.222048",
     "exception": false,
     "start_time": "2021-11-01T09:38:24.151054",
     "status": "completed"
    },
    "tags": []
   },
   "outputs": [
    {
     "data": {
      "text/html": [
       "<div>\n",
       "<style scoped>\n",
       "    .dataframe tbody tr th:only-of-type {\n",
       "        vertical-align: middle;\n",
       "    }\n",
       "\n",
       "    .dataframe tbody tr th {\n",
       "        vertical-align: top;\n",
       "    }\n",
       "\n",
       "    .dataframe thead th {\n",
       "        text-align: right;\n",
       "    }\n",
       "</style>\n",
       "<table border=\"1\" class=\"dataframe\">\n",
       "  <thead>\n",
       "    <tr style=\"text-align: right;\">\n",
       "      <th></th>\n",
       "      <th>Age</th>\n",
       "      <th>Fare</th>\n",
       "      <th>Parch</th>\n",
       "      <th>SibSp</th>\n",
       "    </tr>\n",
       "    <tr>\n",
       "      <th>Survived</th>\n",
       "      <th></th>\n",
       "      <th></th>\n",
       "      <th></th>\n",
       "      <th></th>\n",
       "    </tr>\n",
       "  </thead>\n",
       "  <tbody>\n",
       "    <tr>\n",
       "      <th>0</th>\n",
       "      <td>30.626179</td>\n",
       "      <td>22.117887</td>\n",
       "      <td>0.329690</td>\n",
       "      <td>0.553734</td>\n",
       "    </tr>\n",
       "    <tr>\n",
       "      <th>1</th>\n",
       "      <td>28.343690</td>\n",
       "      <td>48.395408</td>\n",
       "      <td>0.464912</td>\n",
       "      <td>0.473684</td>\n",
       "    </tr>\n",
       "  </tbody>\n",
       "</table>\n",
       "</div>"
      ],
      "text/plain": [
       "                Age       Fare     Parch     SibSp\n",
       "Survived                                          \n",
       "0         30.626179  22.117887  0.329690  0.553734\n",
       "1         28.343690  48.395408  0.464912  0.473684"
      ]
     },
     "execution_count": 5,
     "metadata": {},
     "output_type": "execute_result"
    }
   ],
   "source": [
    "## Survival dependence based on numerical variables\n",
    "pd.pivot_table(data, index = 'Survived', values = ['Age','SibSp','Parch','Fare'])"
   ]
  },
  {
   "cell_type": "markdown",
   "id": "19f805a2",
   "metadata": {
    "papermill": {
     "duration": 0.040079,
     "end_time": "2021-11-01T09:38:24.303368",
     "exception": false,
     "start_time": "2021-11-01T09:38:24.263289",
     "status": "completed"
    },
    "tags": []
   },
   "source": [
    "Similarly, performing the same exercise for categorical features. Sex of the Passenger seems to have significant impact on his/her probability of survival."
   ]
  },
  {
   "cell_type": "code",
   "execution_count": 6,
   "id": "1f5f26c7",
   "metadata": {
    "execution": {
     "iopub.execute_input": "2021-11-01T09:38:24.398476Z",
     "iopub.status.busy": "2021-11-01T09:38:24.397511Z",
     "iopub.status.idle": "2021-11-01T09:38:24.401049Z",
     "shell.execute_reply": "2021-11-01T09:38:24.401742Z",
     "shell.execute_reply.started": "2021-10-31T14:41:35.73945Z"
    },
    "papermill": {
     "duration": 0.057093,
     "end_time": "2021-11-01T09:38:24.401973",
     "exception": false,
     "start_time": "2021-11-01T09:38:24.344880",
     "status": "completed"
    },
    "tags": []
   },
   "outputs": [
    {
     "name": "stdout",
     "output_type": "stream",
     "text": [
      "      Sex  Survived\n",
      "0  female  0.742038\n",
      "1    male  0.188908\n"
     ]
    }
   ],
   "source": [
    "## Comparing impact on survival based on categorical variables\n",
    "print(data[['Sex','Survived']].groupby(['Sex'] , as_index = False).mean())"
   ]
  },
  {
   "cell_type": "markdown",
   "id": "554c834a",
   "metadata": {
    "papermill": {
     "duration": 0.043625,
     "end_time": "2021-11-01T09:38:24.487968",
     "exception": false,
     "start_time": "2021-11-01T09:38:24.444343",
     "status": "completed"
    },
    "tags": []
   },
   "source": [
    "From the table in #2, we can deduce that Fare has a high SD(standard deviation). Hense to reduce SD, it might be a better idea to divide it into groups based on a quantile system, pd.qcut() helps us achieve exactly that.\n",
    "\n"
   ]
  },
  {
   "cell_type": "code",
   "execution_count": 7,
   "id": "f2308741",
   "metadata": {
    "execution": {
     "iopub.execute_input": "2021-11-01T09:38:24.588685Z",
     "iopub.status.busy": "2021-11-01T09:38:24.580574Z",
     "iopub.status.idle": "2021-11-01T09:38:24.601183Z",
     "shell.execute_reply": "2021-11-01T09:38:24.600050Z",
     "shell.execute_reply.started": "2021-10-31T14:41:35.751319Z"
    },
    "papermill": {
     "duration": 0.070002,
     "end_time": "2021-11-01T09:38:24.601421",
     "exception": false,
     "start_time": "2021-11-01T09:38:24.531419",
     "status": "completed"
    },
    "tags": []
   },
   "outputs": [
    {
     "name": "stdout",
     "output_type": "stream",
     "text": [
      "        Fare_Range  Survived\n",
      "0   (-0.001, 7.91]  0.197309\n",
      "1   (7.91, 14.454]  0.303571\n",
      "2   (14.454, 31.0]  0.454955\n",
      "3  (31.0, 512.329]  0.581081\n"
     ]
    }
   ],
   "source": [
    "# print(data[['Fare','Survived']].groupby(['Fare'] , as_index = False).mean())\n",
    "\n",
    "data['Fare_Range'] = pd.qcut(data['Fare'], 4)\n",
    "\n",
    "print(data[['Fare_Range','Survived']].groupby(['Fare_Range'] , as_index = False).mean())"
   ]
  },
  {
   "cell_type": "markdown",
   "id": "2d08abe3",
   "metadata": {
    "papermill": {
     "duration": 0.041773,
     "end_time": "2021-11-01T09:38:24.685133",
     "exception": false,
     "start_time": "2021-11-01T09:38:24.643360",
     "status": "completed"
    },
    "tags": []
   },
   "source": [
    "Pclass dependance"
   ]
  },
  {
   "cell_type": "code",
   "execution_count": 8,
   "id": "43282edc",
   "metadata": {
    "execution": {
     "iopub.execute_input": "2021-11-01T09:38:24.774648Z",
     "iopub.status.busy": "2021-11-01T09:38:24.773957Z",
     "iopub.status.idle": "2021-11-01T09:38:24.785302Z",
     "shell.execute_reply": "2021-11-01T09:38:24.784629Z",
     "shell.execute_reply.started": "2021-10-31T14:41:35.779125Z"
    },
    "papermill": {
     "duration": 0.056198,
     "end_time": "2021-11-01T09:38:24.785476",
     "exception": false,
     "start_time": "2021-11-01T09:38:24.729278",
     "status": "completed"
    },
    "tags": []
   },
   "outputs": [
    {
     "name": "stdout",
     "output_type": "stream",
     "text": [
      "   Pclass  Survived\n",
      "0       1  0.629630\n",
      "1       2  0.472826\n",
      "2       3  0.242363\n"
     ]
    }
   ],
   "source": [
    "print(data[['Pclass','Survived']].groupby(['Pclass'] , as_index = False).mean())"
   ]
  },
  {
   "cell_type": "markdown",
   "id": "2840a0f3",
   "metadata": {
    "papermill": {
     "duration": 0.041495,
     "end_time": "2021-11-01T09:38:24.870023",
     "exception": false,
     "start_time": "2021-11-01T09:38:24.828528",
     "status": "completed"
    },
    "tags": []
   },
   "source": [
    "3. **Feature Engineering** "
   ]
  },
  {
   "cell_type": "markdown",
   "id": "3760bdd3",
   "metadata": {
    "papermill": {
     "duration": 0.042342,
     "end_time": "2021-11-01T09:38:24.955839",
     "exception": false,
     "start_time": "2021-11-01T09:38:24.913497",
     "status": "completed"
    },
    "tags": []
   },
   "source": [
    "We create a new column 'Family_size' and check it's impact on Survival"
   ]
  },
  {
   "cell_type": "code",
   "execution_count": 9,
   "id": "e713f0d5",
   "metadata": {
    "execution": {
     "iopub.execute_input": "2021-11-01T09:38:25.046341Z",
     "iopub.status.busy": "2021-11-01T09:38:25.045639Z",
     "iopub.status.idle": "2021-11-01T09:38:25.057569Z",
     "shell.execute_reply": "2021-11-01T09:38:25.058261Z",
     "shell.execute_reply.started": "2021-10-31T14:41:35.793453Z"
    },
    "papermill": {
     "duration": 0.060148,
     "end_time": "2021-11-01T09:38:25.058448",
     "exception": false,
     "start_time": "2021-11-01T09:38:24.998300",
     "status": "completed"
    },
    "tags": []
   },
   "outputs": [
    {
     "name": "stdout",
     "output_type": "stream",
     "text": [
      "   Family_size  Survived\n",
      "0            1  0.303538\n",
      "1            2  0.552795\n",
      "2            3  0.578431\n",
      "3            4  0.724138\n",
      "4            5  0.200000\n",
      "5            6  0.136364\n",
      "6            7  0.333333\n",
      "7            8  0.000000\n",
      "8           11  0.000000\n"
     ]
    }
   ],
   "source": [
    "data['Family_size'] = data['Parch'] + data['SibSp'] + 1\n",
    "    \n",
    "print(data[['Family_size','Survived']].groupby(['Family_size'] , as_index = False).mean())"
   ]
  },
  {
   "cell_type": "markdown",
   "id": "89758609",
   "metadata": {
    "papermill": {
     "duration": 0.041777,
     "end_time": "2021-11-01T09:38:25.141928",
     "exception": false,
     "start_time": "2021-11-01T09:38:25.100151",
     "status": "completed"
    },
    "tags": []
   },
   "source": [
    "Creating new column 'Is_Alone' and checking it's impact on Survival"
   ]
  },
  {
   "cell_type": "code",
   "execution_count": 10,
   "id": "32eee22c",
   "metadata": {
    "execution": {
     "iopub.execute_input": "2021-11-01T09:38:25.236316Z",
     "iopub.status.busy": "2021-11-01T09:38:25.235593Z",
     "iopub.status.idle": "2021-11-01T09:38:25.245274Z",
     "shell.execute_reply": "2021-11-01T09:38:25.246077Z",
     "shell.execute_reply.started": "2021-10-31T14:41:35.810337Z"
    },
    "papermill": {
     "duration": 0.06098,
     "end_time": "2021-11-01T09:38:25.246368",
     "exception": false,
     "start_time": "2021-11-01T09:38:25.185388",
     "status": "completed"
    },
    "tags": []
   },
   "outputs": [
    {
     "name": "stdout",
     "output_type": "stream",
     "text": [
      "   Is_Alone  Survived\n",
      "0         0  0.505650\n",
      "1         1  0.303538\n"
     ]
    }
   ],
   "source": [
    "data['Is_Alone'] = np.where(data['Family_size'] == 1 , 1 , 0)\n",
    "\n",
    "\n",
    "print(data[['Is_Alone','Survived']].groupby(['Is_Alone'] , as_index = False).mean())\n"
   ]
  },
  {
   "cell_type": "markdown",
   "id": "6a65bdc6",
   "metadata": {
    "papermill": {
     "duration": 0.041795,
     "end_time": "2021-11-01T09:38:25.332875",
     "exception": false,
     "start_time": "2021-11-01T09:38:25.291080",
     "status": "completed"
    },
    "tags": []
   },
   "source": [
    "Categorizing titles "
   ]
  },
  {
   "cell_type": "code",
   "execution_count": 11,
   "id": "22366283",
   "metadata": {
    "execution": {
     "iopub.execute_input": "2021-11-01T09:38:25.427243Z",
     "iopub.status.busy": "2021-11-01T09:38:25.426497Z",
     "iopub.status.idle": "2021-11-01T09:38:25.443668Z",
     "shell.execute_reply": "2021-11-01T09:38:25.444268Z",
     "shell.execute_reply.started": "2021-10-31T14:41:35.827121Z"
    },
    "papermill": {
     "duration": 0.069439,
     "end_time": "2021-11-01T09:38:25.444473",
     "exception": false,
     "start_time": "2021-11-01T09:38:25.375034",
     "status": "completed"
    },
    "tags": []
   },
   "outputs": [
    {
     "name": "stdout",
     "output_type": "stream",
     "text": [
      "    Titles  Survived\n",
      "0     Miss  0.702703\n",
      "1       Mr  0.156673\n",
      "2      Mrs  0.793651\n",
      "3  Special  0.492063\n"
     ]
    }
   ],
   "source": [
    "data['Titles'] = data['Name'].str.extract(r', (\\w+\\.)')\n",
    "\n",
    "## Categorizing titles\n",
    "\n",
    "data['Titles'] = data['Titles'].replace(['Capt.', 'Col.',  'Don.',  'Dr.', 'Jonkheer.',  'Lady.',  'Major.',  'Master.',\n",
    "                                           'Rev.',  'Sir.', np.nan] , 'Special')\n",
    "\n",
    "data['Titles'] = data['Titles'].replace(['Mlle.','Mlle','Ms.','Miss.'],'Miss')\n",
    "data['Titles'] = data['Titles'].replace(['Mme.','Mme','Mrs.'],'Mrs')\n",
    "data['Titles'] = data['Titles'].replace('Mr.','Mr')\n",
    "\n",
    "\n",
    "print(data[['Titles','Survived']].groupby(['Titles'] , as_index = False).mean())"
   ]
  },
  {
   "cell_type": "code",
   "execution_count": 12,
   "id": "ce3cc7c4",
   "metadata": {
    "execution": {
     "iopub.execute_input": "2021-11-01T09:38:25.535149Z",
     "iopub.status.busy": "2021-11-01T09:38:25.534456Z",
     "iopub.status.idle": "2021-11-01T09:38:25.539478Z",
     "shell.execute_reply": "2021-11-01T09:38:25.540081Z",
     "shell.execute_reply.started": "2021-10-31T14:41:35.852896Z"
    },
    "papermill": {
     "duration": 0.052248,
     "end_time": "2021-11-01T09:38:25.540276",
     "exception": false,
     "start_time": "2021-11-01T09:38:25.488028",
     "status": "completed"
    },
    "tags": []
   },
   "outputs": [],
   "source": [
    "##Replace age nulls with median\n",
    "data['Age'].fillna(data['Age'].median(), inplace=True)\n"
   ]
  },
  {
   "cell_type": "code",
   "execution_count": 13,
   "id": "4d2d1ded",
   "metadata": {
    "execution": {
     "iopub.execute_input": "2021-11-01T09:38:25.632064Z",
     "iopub.status.busy": "2021-11-01T09:38:25.631023Z",
     "iopub.status.idle": "2021-11-01T09:38:25.651319Z",
     "shell.execute_reply": "2021-11-01T09:38:25.651845Z",
     "shell.execute_reply.started": "2021-10-31T14:41:35.860031Z"
    },
    "papermill": {
     "duration": 0.06753,
     "end_time": "2021-11-01T09:38:25.652060",
     "exception": false,
     "start_time": "2021-11-01T09:38:25.584530",
     "status": "completed"
    },
    "tags": []
   },
   "outputs": [
    {
     "data": {
      "text/html": [
       "<div>\n",
       "<style scoped>\n",
       "    .dataframe tbody tr th:only-of-type {\n",
       "        vertical-align: middle;\n",
       "    }\n",
       "\n",
       "    .dataframe tbody tr th {\n",
       "        vertical-align: top;\n",
       "    }\n",
       "\n",
       "    .dataframe thead th {\n",
       "        text-align: right;\n",
       "    }\n",
       "</style>\n",
       "<table border=\"1\" class=\"dataframe\">\n",
       "  <thead>\n",
       "    <tr style=\"text-align: right;\">\n",
       "      <th></th>\n",
       "      <th>PassengerId</th>\n",
       "      <th>Survived</th>\n",
       "      <th>Pclass</th>\n",
       "      <th>Name</th>\n",
       "      <th>Sex</th>\n",
       "      <th>Age</th>\n",
       "      <th>SibSp</th>\n",
       "      <th>Parch</th>\n",
       "      <th>Ticket</th>\n",
       "      <th>Fare</th>\n",
       "      <th>Cabin</th>\n",
       "      <th>Embarked</th>\n",
       "      <th>Fare_Range</th>\n",
       "      <th>Family_size</th>\n",
       "      <th>Is_Alone</th>\n",
       "      <th>Titles</th>\n",
       "    </tr>\n",
       "  </thead>\n",
       "  <tbody>\n",
       "    <tr>\n",
       "      <th>61</th>\n",
       "      <td>62</td>\n",
       "      <td>1</td>\n",
       "      <td>1</td>\n",
       "      <td>Icard, Miss. Amelie</td>\n",
       "      <td>female</td>\n",
       "      <td>38.0</td>\n",
       "      <td>0</td>\n",
       "      <td>0</td>\n",
       "      <td>113572</td>\n",
       "      <td>80.0</td>\n",
       "      <td>B28</td>\n",
       "      <td>NaN</td>\n",
       "      <td>(31.0, 512.329]</td>\n",
       "      <td>1</td>\n",
       "      <td>1</td>\n",
       "      <td>Miss</td>\n",
       "    </tr>\n",
       "    <tr>\n",
       "      <th>829</th>\n",
       "      <td>830</td>\n",
       "      <td>1</td>\n",
       "      <td>1</td>\n",
       "      <td>Stone, Mrs. George Nelson (Martha Evelyn)</td>\n",
       "      <td>female</td>\n",
       "      <td>62.0</td>\n",
       "      <td>0</td>\n",
       "      <td>0</td>\n",
       "      <td>113572</td>\n",
       "      <td>80.0</td>\n",
       "      <td>B28</td>\n",
       "      <td>NaN</td>\n",
       "      <td>(31.0, 512.329]</td>\n",
       "      <td>1</td>\n",
       "      <td>1</td>\n",
       "      <td>Mrs</td>\n",
       "    </tr>\n",
       "  </tbody>\n",
       "</table>\n",
       "</div>"
      ],
      "text/plain": [
       "     PassengerId  Survived  Pclass                                       Name  \\\n",
       "61            62         1       1                        Icard, Miss. Amelie   \n",
       "829          830         1       1  Stone, Mrs. George Nelson (Martha Evelyn)   \n",
       "\n",
       "        Sex   Age  SibSp  Parch  Ticket  Fare Cabin Embarked       Fare_Range  \\\n",
       "61   female  38.0      0      0  113572  80.0   B28      NaN  (31.0, 512.329]   \n",
       "829  female  62.0      0      0  113572  80.0   B28      NaN  (31.0, 512.329]   \n",
       "\n",
       "     Family_size  Is_Alone Titles  \n",
       "61             1         1   Miss  \n",
       "829            1         1    Mrs  "
      ]
     },
     "execution_count": 13,
     "metadata": {},
     "output_type": "execute_result"
    }
   ],
   "source": [
    "##Analysing nulls in Embarked column\n",
    "data[data['Embarked'].isna()]\n"
   ]
  },
  {
   "cell_type": "markdown",
   "id": "f6bf06bb",
   "metadata": {
    "papermill": {
     "duration": 0.043856,
     "end_time": "2021-11-01T09:38:25.739948",
     "exception": false,
     "start_time": "2021-11-01T09:38:25.696092",
     "status": "completed"
    },
    "tags": []
   },
   "source": [
    "Identifying passengers with Sex = Female and Fare<80, to see where majority of the passengers embarked from..\n",
    "\n",
    "Replacing nulls in column 'Embarked' with 'S'. "
   ]
  },
  {
   "cell_type": "code",
   "execution_count": 14,
   "id": "d054e87e",
   "metadata": {
    "execution": {
     "iopub.execute_input": "2021-11-01T09:38:25.830504Z",
     "iopub.status.busy": "2021-11-01T09:38:25.829421Z",
     "iopub.status.idle": "2021-11-01T09:38:25.853097Z",
     "shell.execute_reply": "2021-11-01T09:38:25.853646Z",
     "shell.execute_reply.started": "2021-10-31T14:41:35.886877Z"
    },
    "papermill": {
     "duration": 0.07072,
     "end_time": "2021-11-01T09:38:25.853843",
     "exception": false,
     "start_time": "2021-11-01T09:38:25.783123",
     "status": "completed"
    },
    "tags": []
   },
   "outputs": [
    {
     "name": "stdout",
     "output_type": "stream",
     "text": [
      "     PassengerId  Survived  Pclass  \\\n",
      "1              2         1       1   \n",
      "2              3         1       3   \n",
      "3              4         1       1   \n",
      "8              9         1       3   \n",
      "9             10         1       2   \n",
      "..           ...       ...     ...   \n",
      "880          881         1       2   \n",
      "882          883         0       3   \n",
      "885          886         0       3   \n",
      "887          888         1       1   \n",
      "888          889         0       3   \n",
      "\n",
      "                                                  Name     Sex   Age  SibSp  \\\n",
      "1    Cumings, Mrs. John Bradley (Florence Briggs Th...  female  38.0      1   \n",
      "2                               Heikkinen, Miss. Laina  female  26.0      0   \n",
      "3         Futrelle, Mrs. Jacques Heath (Lily May Peel)  female  35.0      1   \n",
      "8    Johnson, Mrs. Oscar W (Elisabeth Vilhelmina Berg)  female  27.0      0   \n",
      "9                  Nasser, Mrs. Nicholas (Adele Achem)  female  14.0      1   \n",
      "..                                                 ...     ...   ...    ...   \n",
      "880       Shelley, Mrs. William (Imanita Parrish Hall)  female  25.0      0   \n",
      "882                       Dahlberg, Miss. Gerda Ulrika  female  22.0      0   \n",
      "885               Rice, Mrs. William (Margaret Norton)  female  39.0      0   \n",
      "887                       Graham, Miss. Margaret Edith  female  19.0      0   \n",
      "888           Johnston, Miss. Catherine Helen \"Carrie\"  female  28.0      1   \n",
      "\n",
      "     Parch            Ticket     Fare Cabin Embarked       Fare_Range  \\\n",
      "1        0          PC 17599  71.2833   C85        C  (31.0, 512.329]   \n",
      "2        0  STON/O2. 3101282   7.9250   NaN        S   (7.91, 14.454]   \n",
      "3        0            113803  53.1000  C123        S  (31.0, 512.329]   \n",
      "8        2            347742  11.1333   NaN        S   (7.91, 14.454]   \n",
      "9        0            237736  30.0708   NaN        C   (14.454, 31.0]   \n",
      "..     ...               ...      ...   ...      ...              ...   \n",
      "880      1            230433  26.0000   NaN        S   (14.454, 31.0]   \n",
      "882      0              7552  10.5167   NaN        S   (7.91, 14.454]   \n",
      "885      5            382652  29.1250   NaN        Q   (14.454, 31.0]   \n",
      "887      0            112053  30.0000   B42        S   (14.454, 31.0]   \n",
      "888      2        W./C. 6607  23.4500   NaN        S   (14.454, 31.0]   \n",
      "\n",
      "     Family_size  Is_Alone Titles  \n",
      "1              2         0    Mrs  \n",
      "2              1         1   Miss  \n",
      "3              2         0    Mrs  \n",
      "8              3         0    Mrs  \n",
      "9              2         0    Mrs  \n",
      "..           ...       ...    ...  \n",
      "880            2         0    Mrs  \n",
      "882            1         1   Miss  \n",
      "885            6         0    Mrs  \n",
      "887            1         1   Miss  \n",
      "888            4         0   Miss  \n",
      "\n",
      "[266 rows x 16 columns]\n"
     ]
    }
   ],
   "source": [
    "print(data.loc[(data['Sex'] == \"female\") & (data['Fare'] <=  80)])\n",
    "\n",
    "data['Embarked'].fillna(\"S\", inplace = True)"
   ]
  },
  {
   "cell_type": "code",
   "execution_count": 15,
   "id": "af493db5",
   "metadata": {
    "execution": {
     "iopub.execute_input": "2021-11-01T09:38:25.949655Z",
     "iopub.status.busy": "2021-11-01T09:38:25.948884Z",
     "iopub.status.idle": "2021-11-01T09:38:25.951998Z",
     "shell.execute_reply": "2021-11-01T09:38:25.952798Z",
     "shell.execute_reply.started": "2021-10-31T14:41:35.914132Z"
    },
    "papermill": {
     "duration": 0.053513,
     "end_time": "2021-11-01T09:38:25.953028",
     "exception": false,
     "start_time": "2021-11-01T09:38:25.899515",
     "status": "completed"
    },
    "tags": []
   },
   "outputs": [],
   "source": [
    "## Now that we have more or less removed all the nulls and analysed the data, we will apply the above transformation to our test-train dataset"
   ]
  },
  {
   "cell_type": "code",
   "execution_count": 16,
   "id": "4f62e9f7",
   "metadata": {
    "execution": {
     "iopub.execute_input": "2021-11-01T09:38:26.049179Z",
     "iopub.status.busy": "2021-11-01T09:38:26.048466Z",
     "iopub.status.idle": "2021-11-01T09:38:26.052083Z",
     "shell.execute_reply": "2021-11-01T09:38:26.052733Z",
     "shell.execute_reply.started": "2021-10-31T14:41:35.919601Z"
    },
    "papermill": {
     "duration": 0.055161,
     "end_time": "2021-11-01T09:38:26.052942",
     "exception": false,
     "start_time": "2021-11-01T09:38:25.997781",
     "status": "completed"
    },
    "tags": []
   },
   "outputs": [],
   "source": [
    "combine = [test,train]"
   ]
  },
  {
   "cell_type": "code",
   "execution_count": 17,
   "id": "086fbf52",
   "metadata": {
    "execution": {
     "iopub.execute_input": "2021-11-01T09:38:26.144101Z",
     "iopub.status.busy": "2021-11-01T09:38:26.143386Z",
     "iopub.status.idle": "2021-11-01T09:38:26.166231Z",
     "shell.execute_reply": "2021-11-01T09:38:26.166774Z",
     "shell.execute_reply.started": "2021-10-31T14:41:35.930583Z"
    },
    "papermill": {
     "duration": 0.069511,
     "end_time": "2021-11-01T09:38:26.167002",
     "exception": false,
     "start_time": "2021-11-01T09:38:26.097491",
     "status": "completed"
    },
    "tags": []
   },
   "outputs": [
    {
     "name": "stdout",
     "output_type": "stream",
     "text": [
      "     PassengerId  Pclass                                          Name  \\\n",
      "0            892       3                              Kelly, Mr. James   \n",
      "1            893       3              Wilkes, Mrs. James (Ellen Needs)   \n",
      "2            894       2                     Myles, Mr. Thomas Francis   \n",
      "3            895       3                              Wirz, Mr. Albert   \n",
      "4            896       3  Hirvonen, Mrs. Alexander (Helga E Lindqvist)   \n",
      "..           ...     ...                                           ...   \n",
      "413         1305       3                            Spector, Mr. Woolf   \n",
      "414         1306       1                  Oliva y Ocana, Dona. Fermina   \n",
      "415         1307       3                  Saether, Mr. Simon Sivertsen   \n",
      "416         1308       3                           Ware, Mr. Frederick   \n",
      "417         1309       3                      Peter, Master. Michael J   \n",
      "\n",
      "        Sex   Age  SibSp  Parch              Ticket      Fare Cabin Embarked  \n",
      "0      male  34.5      0      0              330911    7.8292   NaN        Q  \n",
      "1    female  47.0      1      0              363272    7.0000   NaN        S  \n",
      "2      male  62.0      0      0              240276    9.6875   NaN        Q  \n",
      "3      male  27.0      0      0              315154    8.6625   NaN        S  \n",
      "4    female  22.0      1      1             3101298   12.2875   NaN        S  \n",
      "..      ...   ...    ...    ...                 ...       ...   ...      ...  \n",
      "413    male   NaN      0      0           A.5. 3236    8.0500   NaN        S  \n",
      "414  female  39.0      0      0            PC 17758  108.9000  C105        C  \n",
      "415    male  38.5      0      0  SOTON/O.Q. 3101262    7.2500   NaN        S  \n",
      "416    male   NaN      0      0              359309    8.0500   NaN        S  \n",
      "417    male   NaN      1      1                2668   22.3583   NaN        C  \n",
      "\n",
      "[418 rows x 11 columns]\n",
      "     PassengerId  Survived  Pclass  \\\n",
      "0              1         0       3   \n",
      "1              2         1       1   \n",
      "2              3         1       3   \n",
      "3              4         1       1   \n",
      "4              5         0       3   \n",
      "..           ...       ...     ...   \n",
      "886          887         0       2   \n",
      "887          888         1       1   \n",
      "888          889         0       3   \n",
      "889          890         1       1   \n",
      "890          891         0       3   \n",
      "\n",
      "                                                  Name     Sex   Age  SibSp  \\\n",
      "0                              Braund, Mr. Owen Harris    male  22.0      1   \n",
      "1    Cumings, Mrs. John Bradley (Florence Briggs Th...  female  38.0      1   \n",
      "2                               Heikkinen, Miss. Laina  female  26.0      0   \n",
      "3         Futrelle, Mrs. Jacques Heath (Lily May Peel)  female  35.0      1   \n",
      "4                             Allen, Mr. William Henry    male  35.0      0   \n",
      "..                                                 ...     ...   ...    ...   \n",
      "886                              Montvila, Rev. Juozas    male  27.0      0   \n",
      "887                       Graham, Miss. Margaret Edith  female  19.0      0   \n",
      "888           Johnston, Miss. Catherine Helen \"Carrie\"  female   NaN      1   \n",
      "889                              Behr, Mr. Karl Howell    male  26.0      0   \n",
      "890                                Dooley, Mr. Patrick    male  32.0      0   \n",
      "\n",
      "     Parch            Ticket     Fare Cabin Embarked  \n",
      "0        0         A/5 21171   7.2500   NaN        S  \n",
      "1        0          PC 17599  71.2833   C85        C  \n",
      "2        0  STON/O2. 3101282   7.9250   NaN        S  \n",
      "3        0            113803  53.1000  C123        S  \n",
      "4        0            373450   8.0500   NaN        S  \n",
      "..     ...               ...      ...   ...      ...  \n",
      "886      0            211536  13.0000   NaN        S  \n",
      "887      0            112053  30.0000   B42        S  \n",
      "888      2        W./C. 6607  23.4500   NaN        S  \n",
      "889      0            111369  30.0000  C148        C  \n",
      "890      0            370376   7.7500   NaN        Q  \n",
      "\n",
      "[891 rows x 12 columns]\n"
     ]
    }
   ],
   "source": [
    "for dfs in combine:\n",
    "    print(dfs)"
   ]
  },
  {
   "cell_type": "code",
   "execution_count": 18,
   "id": "b04fb110",
   "metadata": {
    "execution": {
     "iopub.execute_input": "2021-11-01T09:38:26.259996Z",
     "iopub.status.busy": "2021-11-01T09:38:26.259193Z",
     "iopub.status.idle": "2021-11-01T09:38:26.314460Z",
     "shell.execute_reply": "2021-11-01T09:38:26.315087Z",
     "shell.execute_reply.started": "2021-10-31T14:41:35.960951Z"
    },
    "papermill": {
     "duration": 0.104042,
     "end_time": "2021-11-01T09:38:26.315300",
     "exception": false,
     "start_time": "2021-11-01T09:38:26.211258",
     "status": "completed"
    },
    "tags": []
   },
   "outputs": [],
   "source": [
    "for dfs in combine:\n",
    "    \n",
    "    dfs['Family_size'] = dfs['Parch'] + dfs['SibSp'] + 1\n",
    "    \n",
    "    \n",
    "    dfs['Is_Alone'] = np.where(dfs['Family_size'] == 1 , 1 , 0)\n",
    "    \n",
    "    \n",
    "    dfs['Titles'] = dfs['Name'].str.extract(r', (\\w+\\.)')\n",
    "\n",
    "    dfs['Titles'] = dfs['Titles'].replace(['Capt.', 'Col.',  'Don.',  'Dr.', 'Jonkheer.',  'Lady.',  'Major.',\n",
    "                                           'Rev.',  'Sir.', np.nan] , 'Special')\n",
    "    dfs['Titles'] = dfs['Titles'].replace(['Mlle.','Mlle','Ms.','Miss.'],'Miss')\n",
    "    dfs['Titles'] = dfs['Titles'].replace(['Mme.','Mme','Mrs.'],'Mrs')\n",
    "    dfs['Titles'] = dfs['Titles'].replace(['Mr.','Master.'],'Mr')\n",
    "\n",
    "    \n",
    "    dfs['Age'].fillna(dfs['Age'].median(), inplace=True)\n",
    "    \n",
    "    \n",
    "    dfs['Embarked'].fillna(\"S\", inplace = True)\n",
    "    \n",
    "## Mapping to numericals\n",
    "\n",
    "    dfs['Sex'] = dfs['Sex'].replace(['male','female'],[0,1])\n",
    "    \n",
    "    title_mapping = {\"Miss\" : 1, \"Mr\" : 2, \"Mrs\" : 3, \"Special\" : 4}\n",
    "    dfs[\"Titles\"] = dfs[\"Titles\"].map(title_mapping)\n",
    "    dfs[\"Titles\"] = dfs[\"Titles\"].fillna(0)\n",
    "\n",
    "    dfs['Embarked'] = dfs['Embarked'].replace(['S','C','Q'],[0,1,2])\n",
    "    \n",
    "    \n",
    "    dfs.loc[ dfs['Fare'] <= 7.91, 'Fare'] = 0\n",
    "    dfs.loc[(dfs['Fare'] > 7.91) & (dfs['Fare'] <= 14.454), 'Fare'] = 1\n",
    "    dfs.loc[(dfs['Fare'] > 14.454) & (dfs['Fare'] <= 31), 'Fare']   = 2\n",
    "    dfs.loc[ dfs['Fare'] > 31, 'Fare'] = 3\n",
    "    dfs['Fare'] = dfs['Fare'].astype(int, errors='ignore').fillna(0)\n",
    "    \n",
    "    \n",
    "    \n",
    "    dfs.loc[ dfs['Age'] <= 16, 'Age'] = 0\n",
    "    dfs.loc[(dfs['Age'] > 16) & (dfs['Age'] <= 32), 'Age'] = 1\n",
    "    dfs.loc[(dfs['Age'] > 32) & (dfs['Age'] <= 48), 'Age'] = 2\n",
    "    dfs.loc[(dfs['Age'] > 48) & (dfs['Age'] <= 64), 'Age'] = 3\n",
    "    dfs.loc[ dfs['Age'] > 64, 'Age']\n",
    "\n",
    "    \n",
    "    "
   ]
  },
  {
   "cell_type": "code",
   "execution_count": 19,
   "id": "9e216e6a",
   "metadata": {
    "execution": {
     "iopub.execute_input": "2021-11-01T09:38:26.412334Z",
     "iopub.status.busy": "2021-11-01T09:38:26.411615Z",
     "iopub.status.idle": "2021-11-01T09:38:26.521203Z",
     "shell.execute_reply": "2021-11-01T09:38:26.520573Z",
     "shell.execute_reply.started": "2021-10-31T14:41:36.020651Z"
    },
    "papermill": {
     "duration": 0.160096,
     "end_time": "2021-11-01T09:38:26.521368",
     "exception": false,
     "start_time": "2021-11-01T09:38:26.361272",
     "status": "completed"
    },
    "tags": []
   },
   "outputs": [
    {
     "data": {
      "text/html": [
       "<style type=\"text/css\">\n",
       "#T_61455_row0_col0, #T_61455_row1_col1, #T_61455_row2_col2, #T_61455_row3_col3, #T_61455_row4_col4, #T_61455_row5_col5, #T_61455_row6_col6, #T_61455_row7_col7, #T_61455_row8_col8, #T_61455_row9_col9, #T_61455_row10_col10, #T_61455_row11_col11 {\n",
       "  background-color: #b40426;\n",
       "  color: #f1f1f1;\n",
       "}\n",
       "#T_61455_row0_col1 {\n",
       "  background-color: #8caffe;\n",
       "  color: #000000;\n",
       "}\n",
       "#T_61455_row0_col2 {\n",
       "  background-color: #b5cdfa;\n",
       "  color: #000000;\n",
       "}\n",
       "#T_61455_row0_col3, #T_61455_row4_col11 {\n",
       "  background-color: #7b9ff9;\n",
       "  color: #f1f1f1;\n",
       "}\n",
       "#T_61455_row0_col4 {\n",
       "  background-color: #5673e0;\n",
       "  color: #f1f1f1;\n",
       "}\n",
       "#T_61455_row0_col5, #T_61455_row8_col1 {\n",
       "  background-color: #aac7fd;\n",
       "  color: #000000;\n",
       "}\n",
       "#T_61455_row0_col6, #T_61455_row4_col9 {\n",
       "  background-color: #b6cefa;\n",
       "  color: #000000;\n",
       "}\n",
       "#T_61455_row0_col7 {\n",
       "  background-color: #b7cff9;\n",
       "  color: #000000;\n",
       "}\n",
       "#T_61455_row0_col8 {\n",
       "  background-color: #516ddb;\n",
       "  color: #f1f1f1;\n",
       "}\n",
       "#T_61455_row0_col9, #T_61455_row11_col6 {\n",
       "  background-color: #bbd1f8;\n",
       "  color: #000000;\n",
       "}\n",
       "#T_61455_row0_col10, #T_61455_row4_col10 {\n",
       "  background-color: #cdd9ec;\n",
       "  color: #000000;\n",
       "}\n",
       "#T_61455_row0_col11 {\n",
       "  background-color: #7ea1fa;\n",
       "  color: #f1f1f1;\n",
       "}\n",
       "#T_61455_row1_col0, #T_61455_row5_col8, #T_61455_row8_col11 {\n",
       "  background-color: #4961d2;\n",
       "  color: #f1f1f1;\n",
       "}\n",
       "#T_61455_row1_col2 {\n",
       "  background-color: #7396f5;\n",
       "  color: #f1f1f1;\n",
       "}\n",
       "#T_61455_row1_col3 {\n",
       "  background-color: #f6bda2;\n",
       "  color: #000000;\n",
       "}\n",
       "#T_61455_row1_col4, #T_61455_row9_col4 {\n",
       "  background-color: #465ecf;\n",
       "  color: #f1f1f1;\n",
       "}\n",
       "#T_61455_row1_col5 {\n",
       "  background-color: #aec9fc;\n",
       "  color: #000000;\n",
       "}\n",
       "#T_61455_row1_col6, #T_61455_row1_col9, #T_61455_row2_col5, #T_61455_row6_col3, #T_61455_row8_col10 {\n",
       "  background-color: #c6d6f1;\n",
       "  color: #000000;\n",
       "}\n",
       "#T_61455_row1_col7 {\n",
       "  background-color: #edd2c3;\n",
       "  color: #000000;\n",
       "}\n",
       "#T_61455_row1_col8 {\n",
       "  background-color: #7a9df8;\n",
       "  color: #f1f1f1;\n",
       "}\n",
       "#T_61455_row1_col10, #T_61455_row11_col2 {\n",
       "  background-color: #9abbff;\n",
       "  color: #000000;\n",
       "}\n",
       "#T_61455_row1_col11, #T_61455_row5_col11, #T_61455_row10_col8 {\n",
       "  background-color: #5f7fe8;\n",
       "  color: #f1f1f1;\n",
       "}\n",
       "#T_61455_row2_col0, #T_61455_row7_col8, #T_61455_row10_col11 {\n",
       "  background-color: #4055c8;\n",
       "  color: #f1f1f1;\n",
       "}\n",
       "#T_61455_row2_col1, #T_61455_row2_col4, #T_61455_row2_col7, #T_61455_row3_col11, #T_61455_row5_col0, #T_61455_row7_col2, #T_61455_row9_col10, #T_61455_row10_col3, #T_61455_row10_col5, #T_61455_row10_col6, #T_61455_row10_col9, #T_61455_row11_col8 {\n",
       "  background-color: #3b4cc0;\n",
       "  color: #f1f1f1;\n",
       "}\n",
       "#T_61455_row2_col3 {\n",
       "  background-color: #6384eb;\n",
       "  color: #f1f1f1;\n",
       "}\n",
       "#T_61455_row2_col6 {\n",
       "  background-color: #bad0f8;\n",
       "  color: #000000;\n",
       "}\n",
       "#T_61455_row2_col8 {\n",
       "  background-color: #6788ee;\n",
       "  color: #f1f1f1;\n",
       "}\n",
       "#T_61455_row2_col9 {\n",
       "  background-color: #cedaeb;\n",
       "  color: #000000;\n",
       "}\n",
       "#T_61455_row2_col10 {\n",
       "  background-color: #dadce0;\n",
       "  color: #000000;\n",
       "}\n",
       "#T_61455_row2_col11 {\n",
       "  background-color: #3c4ec2;\n",
       "  color: #f1f1f1;\n",
       "}\n",
       "#T_61455_row3_col0 {\n",
       "  background-color: #3e51c5;\n",
       "  color: #f1f1f1;\n",
       "}\n",
       "#T_61455_row3_col1 {\n",
       "  background-color: #f7ba9f;\n",
       "  color: #000000;\n",
       "}\n",
       "#T_61455_row3_col2 {\n",
       "  background-color: #a1c0ff;\n",
       "  color: #000000;\n",
       "}\n",
       "#T_61455_row3_col4, #T_61455_row8_col0 {\n",
       "  background-color: #4257c9;\n",
       "  color: #f1f1f1;\n",
       "}\n",
       "#T_61455_row3_col5 {\n",
       "  background-color: #ccd9ed;\n",
       "  color: #000000;\n",
       "}\n",
       "#T_61455_row3_col6 {\n",
       "  background-color: #e3d9d3;\n",
       "  color: #000000;\n",
       "}\n",
       "#T_61455_row3_col7 {\n",
       "  background-color: #e6d7cf;\n",
       "  color: #000000;\n",
       "}\n",
       "#T_61455_row3_col8, #T_61455_row4_col1 {\n",
       "  background-color: #7da0f9;\n",
       "  color: #f1f1f1;\n",
       "}\n",
       "#T_61455_row3_col9 {\n",
       "  background-color: #e4d9d2;\n",
       "  color: #000000;\n",
       "}\n",
       "#T_61455_row3_col10, #T_61455_row11_col1 {\n",
       "  background-color: #85a8fc;\n",
       "  color: #f1f1f1;\n",
       "}\n",
       "#T_61455_row4_col0, #T_61455_row5_col4 {\n",
       "  background-color: #485fd1;\n",
       "  color: #f1f1f1;\n",
       "}\n",
       "#T_61455_row4_col2, #T_61455_row8_col6 {\n",
       "  background-color: #a5c3fe;\n",
       "  color: #000000;\n",
       "}\n",
       "#T_61455_row4_col3, #T_61455_row6_col11 {\n",
       "  background-color: #6f92f3;\n",
       "  color: #f1f1f1;\n",
       "}\n",
       "#T_61455_row4_col5 {\n",
       "  background-color: #a7c5fe;\n",
       "  color: #000000;\n",
       "}\n",
       "#T_61455_row4_col6 {\n",
       "  background-color: #adc9fd;\n",
       "  color: #000000;\n",
       "}\n",
       "#T_61455_row4_col7 {\n",
       "  background-color: #c0d4f5;\n",
       "  color: #000000;\n",
       "}\n",
       "#T_61455_row4_col8, #T_61455_row8_col4 {\n",
       "  background-color: #6485ec;\n",
       "  color: #f1f1f1;\n",
       "}\n",
       "#T_61455_row5_col1 {\n",
       "  background-color: #84a7fc;\n",
       "  color: #f1f1f1;\n",
       "}\n",
       "#T_61455_row5_col2 {\n",
       "  background-color: #cbd8ee;\n",
       "  color: #000000;\n",
       "}\n",
       "#T_61455_row5_col3, #T_61455_row8_col3, #T_61455_row11_col10 {\n",
       "  background-color: #a6c4fe;\n",
       "  color: #000000;\n",
       "}\n",
       "#T_61455_row5_col6, #T_61455_row6_col5 {\n",
       "  background-color: #f5c2aa;\n",
       "  color: #000000;\n",
       "}\n",
       "#T_61455_row5_col7, #T_61455_row6_col7 {\n",
       "  background-color: #f5c4ac;\n",
       "  color: #000000;\n",
       "}\n",
       "#T_61455_row5_col9 {\n",
       "  background-color: #cb3e38;\n",
       "  color: #f1f1f1;\n",
       "}\n",
       "#T_61455_row5_col10, #T_61455_row6_col4, #T_61455_row6_col10 {\n",
       "  background-color: #4e68d8;\n",
       "  color: #f1f1f1;\n",
       "}\n",
       "#T_61455_row6_col0 {\n",
       "  background-color: #4a63d3;\n",
       "  color: #f1f1f1;\n",
       "}\n",
       "#T_61455_row6_col1 {\n",
       "  background-color: #a3c2fe;\n",
       "  color: #000000;\n",
       "}\n",
       "#T_61455_row6_col2 {\n",
       "  background-color: #bfd3f6;\n",
       "  color: #000000;\n",
       "}\n",
       "#T_61455_row6_col8, #T_61455_row7_col0 {\n",
       "  background-color: #445acc;\n",
       "  color: #f1f1f1;\n",
       "}\n",
       "#T_61455_row6_col9 {\n",
       "  background-color: #de614d;\n",
       "  color: #f1f1f1;\n",
       "}\n",
       "#T_61455_row7_col1 {\n",
       "  background-color: #d6dce4;\n",
       "  color: #000000;\n",
       "}\n",
       "#T_61455_row7_col3 {\n",
       "  background-color: #c7d7f0;\n",
       "  color: #000000;\n",
       "}\n",
       "#T_61455_row7_col4 {\n",
       "  background-color: #6180e9;\n",
       "  color: #f1f1f1;\n",
       "}\n",
       "#T_61455_row7_col5 {\n",
       "  background-color: #f4c6af;\n",
       "  color: #000000;\n",
       "}\n",
       "#T_61455_row7_col6 {\n",
       "  background-color: #f3c7b1;\n",
       "  color: #000000;\n",
       "}\n",
       "#T_61455_row7_col9 {\n",
       "  background-color: #f7b194;\n",
       "  color: #000000;\n",
       "}\n",
       "#T_61455_row7_col10 {\n",
       "  background-color: #506bda;\n",
       "  color: #f1f1f1;\n",
       "}\n",
       "#T_61455_row7_col11 {\n",
       "  background-color: #90b2fe;\n",
       "  color: #000000;\n",
       "}\n",
       "#T_61455_row8_col2 {\n",
       "  background-color: #c4d5f3;\n",
       "  color: #000000;\n",
       "}\n",
       "#T_61455_row8_col5, #T_61455_row8_col7 {\n",
       "  background-color: #a9c6fd;\n",
       "  color: #000000;\n",
       "}\n",
       "#T_61455_row8_col9 {\n",
       "  background-color: #b3cdfb;\n",
       "  color: #000000;\n",
       "}\n",
       "#T_61455_row9_col0 {\n",
       "  background-color: #3f53c6;\n",
       "  color: #f1f1f1;\n",
       "}\n",
       "#T_61455_row9_col1 {\n",
       "  background-color: #92b4fe;\n",
       "  color: #000000;\n",
       "}\n",
       "#T_61455_row9_col2 {\n",
       "  background-color: #c9d7f0;\n",
       "  color: #000000;\n",
       "}\n",
       "#T_61455_row9_col3 {\n",
       "  background-color: #bcd2f7;\n",
       "  color: #000000;\n",
       "}\n",
       "#T_61455_row9_col5 {\n",
       "  background-color: #cc403a;\n",
       "  color: #f1f1f1;\n",
       "}\n",
       "#T_61455_row9_col6 {\n",
       "  background-color: #e16751;\n",
       "  color: #f1f1f1;\n",
       "}\n",
       "#T_61455_row9_col7 {\n",
       "  background-color: #f7b599;\n",
       "  color: #000000;\n",
       "}\n",
       "#T_61455_row9_col8 {\n",
       "  background-color: #4358cb;\n",
       "  color: #f1f1f1;\n",
       "}\n",
       "#T_61455_row9_col11 {\n",
       "  background-color: #6687ed;\n",
       "  color: #f1f1f1;\n",
       "}\n",
       "#T_61455_row10_col0 {\n",
       "  background-color: #5b7ae5;\n",
       "  color: #f1f1f1;\n",
       "}\n",
       "#T_61455_row10_col1 {\n",
       "  background-color: #5977e3;\n",
       "  color: #f1f1f1;\n",
       "}\n",
       "#T_61455_row10_col2, #T_61455_row11_col7 {\n",
       "  background-color: #d5dbe5;\n",
       "  color: #000000;\n",
       "}\n",
       "#T_61455_row10_col4, #T_61455_row11_col4 {\n",
       "  background-color: #6c8ff1;\n",
       "  color: #f1f1f1;\n",
       "}\n",
       "#T_61455_row10_col7 {\n",
       "  background-color: #455cce;\n",
       "  color: #f1f1f1;\n",
       "}\n",
       "#T_61455_row11_col0 {\n",
       "  background-color: #6282ea;\n",
       "  color: #f1f1f1;\n",
       "}\n",
       "#T_61455_row11_col3 {\n",
       "  background-color: #5a78e4;\n",
       "  color: #f1f1f1;\n",
       "}\n",
       "#T_61455_row11_col5 {\n",
       "  background-color: #afcafc;\n",
       "  color: #000000;\n",
       "}\n",
       "#T_61455_row11_col9 {\n",
       "  background-color: #c1d4f4;\n",
       "  color: #000000;\n",
       "}\n",
       "</style>\n",
       "<table id=\"T_61455_\">\n",
       "  <thead>\n",
       "    <tr>\n",
       "      <th class=\"blank level0\" >&nbsp;</th>\n",
       "      <th class=\"col_heading level0 col0\" >PassengerId</th>\n",
       "      <th class=\"col_heading level0 col1\" >Survived</th>\n",
       "      <th class=\"col_heading level0 col2\" >Pclass</th>\n",
       "      <th class=\"col_heading level0 col3\" >Sex</th>\n",
       "      <th class=\"col_heading level0 col4\" >Age</th>\n",
       "      <th class=\"col_heading level0 col5\" >SibSp</th>\n",
       "      <th class=\"col_heading level0 col6\" >Parch</th>\n",
       "      <th class=\"col_heading level0 col7\" >Fare</th>\n",
       "      <th class=\"col_heading level0 col8\" >Embarked</th>\n",
       "      <th class=\"col_heading level0 col9\" >Family_size</th>\n",
       "      <th class=\"col_heading level0 col10\" >Is_Alone</th>\n",
       "      <th class=\"col_heading level0 col11\" >Titles</th>\n",
       "    </tr>\n",
       "  </thead>\n",
       "  <tbody>\n",
       "    <tr>\n",
       "      <th id=\"T_61455_level0_row0\" class=\"row_heading level0 row0\" >PassengerId</th>\n",
       "      <td id=\"T_61455_row0_col0\" class=\"data row0 col0\" >1.000000</td>\n",
       "      <td id=\"T_61455_row0_col1\" class=\"data row0 col1\" >-0.005007</td>\n",
       "      <td id=\"T_61455_row0_col2\" class=\"data row0 col2\" >-0.035144</td>\n",
       "      <td id=\"T_61455_row0_col3\" class=\"data row0 col3\" >-0.042939</td>\n",
       "      <td id=\"T_61455_row0_col4\" class=\"data row0 col4\" >-0.011045</td>\n",
       "      <td id=\"T_61455_row0_col5\" class=\"data row0 col5\" >-0.057527</td>\n",
       "      <td id=\"T_61455_row0_col6\" class=\"data row0 col6\" >-0.001652</td>\n",
       "      <td id=\"T_61455_row0_col7\" class=\"data row0 col7\" >-0.023689</td>\n",
       "      <td id=\"T_61455_row0_col8\" class=\"data row0 col8\" >-0.030467</td>\n",
       "      <td id=\"T_61455_row0_col9\" class=\"data row0 col9\" >-0.040143</td>\n",
       "      <td id=\"T_61455_row0_col10\" class=\"data row0 col10\" >0.057462</td>\n",
       "      <td id=\"T_61455_row0_col11\" class=\"data row0 col11\" >0.076338</td>\n",
       "    </tr>\n",
       "    <tr>\n",
       "      <th id=\"T_61455_level0_row1\" class=\"row_heading level0 row1\" >Survived</th>\n",
       "      <td id=\"T_61455_row1_col0\" class=\"data row1 col0\" >-0.005007</td>\n",
       "      <td id=\"T_61455_row1_col1\" class=\"data row1 col1\" >1.000000</td>\n",
       "      <td id=\"T_61455_row1_col2\" class=\"data row1 col2\" >-0.338481</td>\n",
       "      <td id=\"T_61455_row1_col3\" class=\"data row1 col3\" >0.543351</td>\n",
       "      <td id=\"T_61455_row1_col4\" class=\"data row1 col4\" >-0.065770</td>\n",
       "      <td id=\"T_61455_row1_col5\" class=\"data row1 col5\" >-0.035322</td>\n",
       "      <td id=\"T_61455_row1_col6\" class=\"data row1 col6\" >0.081629</td>\n",
       "      <td id=\"T_61455_row1_col7\" class=\"data row1 col7\" >0.295875</td>\n",
       "      <td id=\"T_61455_row1_col8\" class=\"data row1 col8\" >0.106811</td>\n",
       "      <td id=\"T_61455_row1_col9\" class=\"data row1 col9\" >0.016639</td>\n",
       "      <td id=\"T_61455_row1_col10\" class=\"data row1 col10\" >-0.203367</td>\n",
       "      <td id=\"T_61455_row1_col11\" class=\"data row1 col11\" >-0.030926</td>\n",
       "    </tr>\n",
       "    <tr>\n",
       "      <th id=\"T_61455_level0_row2\" class=\"row_heading level0 row2\" >Pclass</th>\n",
       "      <td id=\"T_61455_row2_col0\" class=\"data row2 col0\" >-0.035144</td>\n",
       "      <td id=\"T_61455_row2_col1\" class=\"data row2 col1\" >-0.338481</td>\n",
       "      <td id=\"T_61455_row2_col2\" class=\"data row2 col2\" >1.000000</td>\n",
       "      <td id=\"T_61455_row2_col3\" class=\"data row2 col3\" >-0.131900</td>\n",
       "      <td id=\"T_61455_row2_col4\" class=\"data row2 col4\" >-0.112962</td>\n",
       "      <td id=\"T_61455_row2_col5\" class=\"data row2 col5\" >0.083081</td>\n",
       "      <td id=\"T_61455_row2_col6\" class=\"data row2 col6\" >0.018443</td>\n",
       "      <td id=\"T_61455_row2_col7\" class=\"data row2 col7\" >-0.628459</td>\n",
       "      <td id=\"T_61455_row2_col8\" class=\"data row2 col8\" >0.045702</td>\n",
       "      <td id=\"T_61455_row2_col9\" class=\"data row2 col9\" >0.065997</td>\n",
       "      <td id=\"T_61455_row2_col10\" class=\"data row2 col10\" >0.135207</td>\n",
       "      <td id=\"T_61455_row2_col11\" class=\"data row2 col11\" >-0.161782</td>\n",
       "    </tr>\n",
       "    <tr>\n",
       "      <th id=\"T_61455_level0_row3\" class=\"row_heading level0 row3\" >Sex</th>\n",
       "      <td id=\"T_61455_row3_col0\" class=\"data row3 col0\" >-0.042939</td>\n",
       "      <td id=\"T_61455_row3_col1\" class=\"data row3 col1\" >0.543351</td>\n",
       "      <td id=\"T_61455_row3_col2\" class=\"data row3 col2\" >-0.131900</td>\n",
       "      <td id=\"T_61455_row3_col3\" class=\"data row3 col3\" >1.000000</td>\n",
       "      <td id=\"T_61455_row3_col4\" class=\"data row3 col4\" >-0.086111</td>\n",
       "      <td id=\"T_61455_row3_col5\" class=\"data row3 col5\" >0.114631</td>\n",
       "      <td id=\"T_61455_row3_col6\" class=\"data row3 col6\" >0.245489</td>\n",
       "      <td id=\"T_61455_row3_col7\" class=\"data row3 col7\" >0.248940</td>\n",
       "      <td id=\"T_61455_row3_col8\" class=\"data row3 col8\" >0.116569</td>\n",
       "      <td id=\"T_61455_row3_col9\" class=\"data row3 col9\" >0.200988</td>\n",
       "      <td id=\"T_61455_row3_col10\" class=\"data row3 col10\" >-0.303646</td>\n",
       "      <td id=\"T_61455_row3_col11\" class=\"data row3 col11\" >-0.169180</td>\n",
       "    </tr>\n",
       "    <tr>\n",
       "      <th id=\"T_61455_level0_row4\" class=\"row_heading level0 row4\" >Age</th>\n",
       "      <td id=\"T_61455_row4_col0\" class=\"data row4 col0\" >-0.011045</td>\n",
       "      <td id=\"T_61455_row4_col1\" class=\"data row4 col1\" >-0.065770</td>\n",
       "      <td id=\"T_61455_row4_col2\" class=\"data row4 col2\" >-0.112962</td>\n",
       "      <td id=\"T_61455_row4_col3\" class=\"data row4 col3\" >-0.086111</td>\n",
       "      <td id=\"T_61455_row4_col4\" class=\"data row4 col4\" >1.000000</td>\n",
       "      <td id=\"T_61455_row4_col5\" class=\"data row4 col5\" >-0.065076</td>\n",
       "      <td id=\"T_61455_row4_col6\" class=\"data row4 col6\" >-0.041678</td>\n",
       "      <td id=\"T_61455_row4_col7\" class=\"data row4 col7\" >0.022975</td>\n",
       "      <td id=\"T_61455_row4_col8\" class=\"data row4 col8\" >0.038244</td>\n",
       "      <td id=\"T_61455_row4_col9\" class=\"data row4 col9\" >-0.065298</td>\n",
       "      <td id=\"T_61455_row4_col10\" class=\"data row4 col10\" >0.061521</td>\n",
       "      <td id=\"T_61455_row4_col11\" class=\"data row4 col11\" >0.065145</td>\n",
       "    </tr>\n",
       "    <tr>\n",
       "      <th id=\"T_61455_level0_row5\" class=\"row_heading level0 row5\" >SibSp</th>\n",
       "      <td id=\"T_61455_row5_col0\" class=\"data row5 col0\" >-0.057527</td>\n",
       "      <td id=\"T_61455_row5_col1\" class=\"data row5 col1\" >-0.035322</td>\n",
       "      <td id=\"T_61455_row5_col2\" class=\"data row5 col2\" >0.083081</td>\n",
       "      <td id=\"T_61455_row5_col3\" class=\"data row5 col3\" >0.114631</td>\n",
       "      <td id=\"T_61455_row5_col4\" class=\"data row5 col4\" >-0.065076</td>\n",
       "      <td id=\"T_61455_row5_col5\" class=\"data row5 col5\" >1.000000</td>\n",
       "      <td id=\"T_61455_row5_col6\" class=\"data row5 col6\" >0.414838</td>\n",
       "      <td id=\"T_61455_row5_col7\" class=\"data row5 col7\" >0.394248</td>\n",
       "      <td id=\"T_61455_row5_col8\" class=\"data row5 col8\" >-0.059961</td>\n",
       "      <td id=\"T_61455_row5_col9\" class=\"data row5 col9\" >0.890712</td>\n",
       "      <td id=\"T_61455_row5_col10\" class=\"data row5 col10\" >-0.584471</td>\n",
       "      <td id=\"T_61455_row5_col11\" class=\"data row5 col11\" >-0.030595</td>\n",
       "    </tr>\n",
       "    <tr>\n",
       "      <th id=\"T_61455_level0_row6\" class=\"row_heading level0 row6\" >Parch</th>\n",
       "      <td id=\"T_61455_row6_col0\" class=\"data row6 col0\" >-0.001652</td>\n",
       "      <td id=\"T_61455_row6_col1\" class=\"data row6 col1\" >0.081629</td>\n",
       "      <td id=\"T_61455_row6_col2\" class=\"data row6 col2\" >0.018443</td>\n",
       "      <td id=\"T_61455_row6_col3\" class=\"data row6 col3\" >0.245489</td>\n",
       "      <td id=\"T_61455_row6_col4\" class=\"data row6 col4\" >-0.041678</td>\n",
       "      <td id=\"T_61455_row6_col5\" class=\"data row6 col5\" >0.414838</td>\n",
       "      <td id=\"T_61455_row6_col6\" class=\"data row6 col6\" >1.000000</td>\n",
       "      <td id=\"T_61455_row6_col7\" class=\"data row6 col7\" >0.393048</td>\n",
       "      <td id=\"T_61455_row6_col8\" class=\"data row6 col8\" >-0.078665</td>\n",
       "      <td id=\"T_61455_row6_col9\" class=\"data row6 col9\" >0.783111</td>\n",
       "      <td id=\"T_61455_row6_col10\" class=\"data row6 col10\" >-0.583398</td>\n",
       "      <td id=\"T_61455_row6_col11\" class=\"data row6 col11\" >0.026855</td>\n",
       "    </tr>\n",
       "    <tr>\n",
       "      <th id=\"T_61455_level0_row7\" class=\"row_heading level0 row7\" >Fare</th>\n",
       "      <td id=\"T_61455_row7_col0\" class=\"data row7 col0\" >-0.023689</td>\n",
       "      <td id=\"T_61455_row7_col1\" class=\"data row7 col1\" >0.295875</td>\n",
       "      <td id=\"T_61455_row7_col2\" class=\"data row7 col2\" >-0.628459</td>\n",
       "      <td id=\"T_61455_row7_col3\" class=\"data row7 col3\" >0.248940</td>\n",
       "      <td id=\"T_61455_row7_col4\" class=\"data row7 col4\" >0.022975</td>\n",
       "      <td id=\"T_61455_row7_col5\" class=\"data row7 col5\" >0.394248</td>\n",
       "      <td id=\"T_61455_row7_col6\" class=\"data row7 col6\" >0.393048</td>\n",
       "      <td id=\"T_61455_row7_col7\" class=\"data row7 col7\" >1.000000</td>\n",
       "      <td id=\"T_61455_row7_col8\" class=\"data row7 col8\" >-0.091096</td>\n",
       "      <td id=\"T_61455_row7_col9\" class=\"data row7 col9\" >0.465815</td>\n",
       "      <td id=\"T_61455_row7_col10\" class=\"data row7 col10\" >-0.568942</td>\n",
       "      <td id=\"T_61455_row7_col11\" class=\"data row7 col11\" >0.135275</td>\n",
       "    </tr>\n",
       "    <tr>\n",
       "      <th id=\"T_61455_level0_row8\" class=\"row_heading level0 row8\" >Embarked</th>\n",
       "      <td id=\"T_61455_row8_col0\" class=\"data row8 col0\" >-0.030467</td>\n",
       "      <td id=\"T_61455_row8_col1\" class=\"data row8 col1\" >0.106811</td>\n",
       "      <td id=\"T_61455_row8_col2\" class=\"data row8 col2\" >0.045702</td>\n",
       "      <td id=\"T_61455_row8_col3\" class=\"data row8 col3\" >0.116569</td>\n",
       "      <td id=\"T_61455_row8_col4\" class=\"data row8 col4\" >0.038244</td>\n",
       "      <td id=\"T_61455_row8_col5\" class=\"data row8 col5\" >-0.059961</td>\n",
       "      <td id=\"T_61455_row8_col6\" class=\"data row8 col6\" >-0.078665</td>\n",
       "      <td id=\"T_61455_row8_col7\" class=\"data row8 col7\" >-0.091096</td>\n",
       "      <td id=\"T_61455_row8_col8\" class=\"data row8 col8\" >1.000000</td>\n",
       "      <td id=\"T_61455_row8_col9\" class=\"data row8 col9\" >-0.080281</td>\n",
       "      <td id=\"T_61455_row8_col10\" class=\"data row8 col10\" >0.017807</td>\n",
       "      <td id=\"T_61455_row8_col11\" class=\"data row8 col11\" >-0.113770</td>\n",
       "    </tr>\n",
       "    <tr>\n",
       "      <th id=\"T_61455_level0_row9\" class=\"row_heading level0 row9\" >Family_size</th>\n",
       "      <td id=\"T_61455_row9_col0\" class=\"data row9 col0\" >-0.040143</td>\n",
       "      <td id=\"T_61455_row9_col1\" class=\"data row9 col1\" >0.016639</td>\n",
       "      <td id=\"T_61455_row9_col2\" class=\"data row9 col2\" >0.065997</td>\n",
       "      <td id=\"T_61455_row9_col3\" class=\"data row9 col3\" >0.200988</td>\n",
       "      <td id=\"T_61455_row9_col4\" class=\"data row9 col4\" >-0.065298</td>\n",
       "      <td id=\"T_61455_row9_col5\" class=\"data row9 col5\" >0.890712</td>\n",
       "      <td id=\"T_61455_row9_col6\" class=\"data row9 col6\" >0.783111</td>\n",
       "      <td id=\"T_61455_row9_col7\" class=\"data row9 col7\" >0.465815</td>\n",
       "      <td id=\"T_61455_row9_col8\" class=\"data row9 col8\" >-0.080281</td>\n",
       "      <td id=\"T_61455_row9_col9\" class=\"data row9 col9\" >1.000000</td>\n",
       "      <td id=\"T_61455_row9_col10\" class=\"data row9 col10\" >-0.690922</td>\n",
       "      <td id=\"T_61455_row9_col11\" class=\"data row9 col11\" >-0.007495</td>\n",
       "    </tr>\n",
       "    <tr>\n",
       "      <th id=\"T_61455_level0_row10\" class=\"row_heading level0 row10\" >Is_Alone</th>\n",
       "      <td id=\"T_61455_row10_col0\" class=\"data row10 col0\" >0.057462</td>\n",
       "      <td id=\"T_61455_row10_col1\" class=\"data row10 col1\" >-0.203367</td>\n",
       "      <td id=\"T_61455_row10_col2\" class=\"data row10 col2\" >0.135207</td>\n",
       "      <td id=\"T_61455_row10_col3\" class=\"data row10 col3\" >-0.303646</td>\n",
       "      <td id=\"T_61455_row10_col4\" class=\"data row10 col4\" >0.061521</td>\n",
       "      <td id=\"T_61455_row10_col5\" class=\"data row10 col5\" >-0.584471</td>\n",
       "      <td id=\"T_61455_row10_col6\" class=\"data row10 col6\" >-0.583398</td>\n",
       "      <td id=\"T_61455_row10_col7\" class=\"data row10 col7\" >-0.568942</td>\n",
       "      <td id=\"T_61455_row10_col8\" class=\"data row10 col8\" >0.017807</td>\n",
       "      <td id=\"T_61455_row10_col9\" class=\"data row10 col9\" >-0.690922</td>\n",
       "      <td id=\"T_61455_row10_col10\" class=\"data row10 col10\" >1.000000</td>\n",
       "      <td id=\"T_61455_row10_col11\" class=\"data row10 col11\" >-0.143831</td>\n",
       "    </tr>\n",
       "    <tr>\n",
       "      <th id=\"T_61455_level0_row11\" class=\"row_heading level0 row11\" >Titles</th>\n",
       "      <td id=\"T_61455_row11_col0\" class=\"data row11 col0\" >0.076338</td>\n",
       "      <td id=\"T_61455_row11_col1\" class=\"data row11 col1\" >-0.030926</td>\n",
       "      <td id=\"T_61455_row11_col2\" class=\"data row11 col2\" >-0.161782</td>\n",
       "      <td id=\"T_61455_row11_col3\" class=\"data row11 col3\" >-0.169180</td>\n",
       "      <td id=\"T_61455_row11_col4\" class=\"data row11 col4\" >0.065145</td>\n",
       "      <td id=\"T_61455_row11_col5\" class=\"data row11 col5\" >-0.030595</td>\n",
       "      <td id=\"T_61455_row11_col6\" class=\"data row11 col6\" >0.026855</td>\n",
       "      <td id=\"T_61455_row11_col7\" class=\"data row11 col7\" >0.135275</td>\n",
       "      <td id=\"T_61455_row11_col8\" class=\"data row11 col8\" >-0.113770</td>\n",
       "      <td id=\"T_61455_row11_col9\" class=\"data row11 col9\" >-0.007495</td>\n",
       "      <td id=\"T_61455_row11_col10\" class=\"data row11 col10\" >-0.143831</td>\n",
       "      <td id=\"T_61455_row11_col11\" class=\"data row11 col11\" >1.000000</td>\n",
       "    </tr>\n",
       "  </tbody>\n",
       "</table>\n"
      ],
      "text/plain": [
       "<pandas.io.formats.style.Styler at 0x7f13f743f610>"
      ]
     },
     "execution_count": 19,
     "metadata": {},
     "output_type": "execute_result"
    }
   ],
   "source": [
    "## Find correlation between features\n",
    "\n",
    "corr = train.corr()\n",
    "corr.style.background_gradient(cmap='coolwarm')\n"
   ]
  },
  {
   "cell_type": "markdown",
   "id": "ddb4cccf",
   "metadata": {
    "papermill": {
     "duration": 0.046916,
     "end_time": "2021-11-01T09:38:26.615194",
     "exception": false,
     "start_time": "2021-11-01T09:38:26.568278",
     "status": "completed"
    },
    "tags": []
   },
   "source": [
    "High correlation between SibSP,Parch and Family_Size."
   ]
  },
  {
   "cell_type": "code",
   "execution_count": 20,
   "id": "72c40339",
   "metadata": {
    "execution": {
     "iopub.execute_input": "2021-11-01T09:38:26.722727Z",
     "iopub.status.busy": "2021-11-01T09:38:26.722016Z",
     "iopub.status.idle": "2021-11-01T09:38:26.725086Z",
     "shell.execute_reply": "2021-11-01T09:38:26.725762Z",
     "shell.execute_reply.started": "2021-10-31T14:41:36.128052Z"
    },
    "papermill": {
     "duration": 0.064882,
     "end_time": "2021-11-01T09:38:26.726015",
     "exception": false,
     "start_time": "2021-11-01T09:38:26.661133",
     "status": "completed"
    },
    "tags": []
   },
   "outputs": [
    {
     "name": "stdout",
     "output_type": "stream",
     "text": [
      "     PassengerId  Pclass                                          Name  Sex  \\\n",
      "0            892       3                              Kelly, Mr. James    0   \n",
      "1            893       3              Wilkes, Mrs. James (Ellen Needs)    1   \n",
      "2            894       2                     Myles, Mr. Thomas Francis    0   \n",
      "3            895       3                              Wirz, Mr. Albert    0   \n",
      "4            896       3  Hirvonen, Mrs. Alexander (Helga E Lindqvist)    1   \n",
      "..           ...     ...                                           ...  ...   \n",
      "413         1305       3                            Spector, Mr. Woolf    0   \n",
      "414         1306       1                  Oliva y Ocana, Dona. Fermina    1   \n",
      "415         1307       3                  Saether, Mr. Simon Sivertsen    0   \n",
      "416         1308       3                           Ware, Mr. Frederick    0   \n",
      "417         1309       3                      Peter, Master. Michael J    0   \n",
      "\n",
      "     Age  SibSp  Parch              Ticket  Fare Cabin  Embarked  Family_size  \\\n",
      "0    2.0      0      0              330911   0.0   NaN         2            1   \n",
      "1    2.0      1      0              363272   0.0   NaN         0            2   \n",
      "2    3.0      0      0              240276   1.0   NaN         2            1   \n",
      "3    1.0      0      0              315154   1.0   NaN         0            1   \n",
      "4    1.0      1      1             3101298   1.0   NaN         0            3   \n",
      "..   ...    ...    ...                 ...   ...   ...       ...          ...   \n",
      "413  1.0      0      0           A.5. 3236   1.0   NaN         0            1   \n",
      "414  2.0      0      0            PC 17758   3.0  C105         1            1   \n",
      "415  2.0      0      0  SOTON/O.Q. 3101262   0.0   NaN         0            1   \n",
      "416  1.0      0      0              359309   1.0   NaN         0            1   \n",
      "417  1.0      1      1                2668   2.0   NaN         1            3   \n",
      "\n",
      "     Is_Alone  Titles  \n",
      "0           1     2.0  \n",
      "1           0     3.0  \n",
      "2           1     2.0  \n",
      "3           1     2.0  \n",
      "4           0     3.0  \n",
      "..        ...     ...  \n",
      "413         1     2.0  \n",
      "414         1     0.0  \n",
      "415         1     2.0  \n",
      "416         1     2.0  \n",
      "417         0     2.0  \n",
      "\n",
      "[418 rows x 14 columns]\n"
     ]
    }
   ],
   "source": [
    "print(test)"
   ]
  },
  {
   "cell_type": "markdown",
   "id": "8ddae3e7",
   "metadata": {
    "papermill": {
     "duration": 0.045959,
     "end_time": "2021-11-01T09:38:26.819120",
     "exception": false,
     "start_time": "2021-11-01T09:38:26.773161",
     "status": "completed"
    },
    "tags": []
   },
   "source": [
    "Dropping columns not relevant to our models"
   ]
  },
  {
   "cell_type": "code",
   "execution_count": 21,
   "id": "7e64dcf8",
   "metadata": {
    "execution": {
     "iopub.execute_input": "2021-11-01T09:38:26.914034Z",
     "iopub.status.busy": "2021-11-01T09:38:26.913333Z",
     "iopub.status.idle": "2021-11-01T09:38:26.920447Z",
     "shell.execute_reply": "2021-11-01T09:38:26.921073Z",
     "shell.execute_reply.started": "2021-10-31T14:41:36.146985Z"
    },
    "papermill": {
     "duration": 0.0564,
     "end_time": "2021-11-01T09:38:26.921293",
     "exception": false,
     "start_time": "2021-11-01T09:38:26.864893",
     "status": "completed"
    },
    "tags": []
   },
   "outputs": [],
   "source": [
    "drop_dict = ['Name', 'Ticket', 'Cabin', 'SibSp',\\\n",
    "                 'Parch','Family_size']\n",
    "\n",
    "\n",
    "\n",
    "train = train.drop(drop_dict, axis = 1)\n",
    "test = test.drop(drop_dict, axis = 1)\n"
   ]
  },
  {
   "cell_type": "code",
   "execution_count": 22,
   "id": "24020910",
   "metadata": {
    "execution": {
     "iopub.execute_input": "2021-11-01T09:38:27.017160Z",
     "iopub.status.busy": "2021-11-01T09:38:27.016461Z",
     "iopub.status.idle": "2021-11-01T09:38:27.037778Z",
     "shell.execute_reply": "2021-11-01T09:38:27.036569Z",
     "shell.execute_reply.started": "2021-10-31T14:41:36.157654Z"
    },
    "papermill": {
     "duration": 0.070511,
     "end_time": "2021-11-01T09:38:27.038120",
     "exception": false,
     "start_time": "2021-11-01T09:38:26.967609",
     "status": "completed"
    },
    "tags": []
   },
   "outputs": [
    {
     "name": "stdout",
     "output_type": "stream",
     "text": [
      "     PassengerId  Survived  Pclass  Sex  Age  Fare  Embarked  Is_Alone  Titles\n",
      "0              1         0       3    0  1.0     0         0         0       2\n",
      "1              2         1       1    1  2.0     3         1         0       3\n",
      "2              3         1       3    1  1.0     1         0         1       1\n",
      "3              4         1       1    1  2.0     3         0         0       3\n",
      "4              5         0       3    0  2.0     1         0         1       2\n",
      "..           ...       ...     ...  ...  ...   ...       ...       ...     ...\n",
      "886          887         0       2    0  1.0     1         0         1       4\n",
      "887          888         1       1    1  1.0     2         0         1       1\n",
      "888          889         0       3    1  1.0     2         0         0       1\n",
      "889          890         1       1    0  1.0     2         1         1       2\n",
      "890          891         0       3    0  1.0     0         2         1       2\n",
      "\n",
      "[891 rows x 9 columns]\n",
      "\n",
      "__\n",
      "\n",
      "     PassengerId  Pclass  Sex  Age  Fare  Embarked  Is_Alone  Titles\n",
      "0            892       3    0  2.0   0.0         2         1     2.0\n",
      "1            893       3    1  2.0   0.0         0         0     3.0\n",
      "2            894       2    0  3.0   1.0         2         1     2.0\n",
      "3            895       3    0  1.0   1.0         0         1     2.0\n",
      "4            896       3    1  1.0   1.0         0         0     3.0\n",
      "..           ...     ...  ...  ...   ...       ...       ...     ...\n",
      "413         1305       3    0  1.0   1.0         0         1     2.0\n",
      "414         1306       1    1  2.0   3.0         1         1     0.0\n",
      "415         1307       3    0  2.0   0.0         0         1     2.0\n",
      "416         1308       3    0  1.0   1.0         0         1     2.0\n",
      "417         1309       3    0  1.0   2.0         1         0     2.0\n",
      "\n",
      "[418 rows x 8 columns]\n"
     ]
    }
   ],
   "source": [
    "print(train)\n",
    "\n",
    "print(\"\\n\" + \"__\"+ \"\\n\")\n",
    "\n",
    "print(test)"
   ]
  },
  {
   "cell_type": "markdown",
   "id": "e8824db7",
   "metadata": {
    "papermill": {
     "duration": 0.047101,
     "end_time": "2021-11-01T09:38:27.132489",
     "exception": false,
     "start_time": "2021-11-01T09:38:27.085388",
     "status": "completed"
    },
    "tags": []
   },
   "source": [
    "4. **Model Selection**"
   ]
  },
  {
   "cell_type": "markdown",
   "id": "0ac21467",
   "metadata": {
    "papermill": {
     "duration": 0.04659,
     "end_time": "2021-11-01T09:38:27.226268",
     "exception": false,
     "start_time": "2021-11-01T09:38:27.179678",
     "status": "completed"
    },
    "tags": []
   },
   "source": [
    "Preparing dataset for Model"
   ]
  },
  {
   "cell_type": "code",
   "execution_count": 23,
   "id": "16beef17",
   "metadata": {
    "execution": {
     "iopub.execute_input": "2021-11-01T09:38:27.325479Z",
     "iopub.status.busy": "2021-11-01T09:38:27.324736Z",
     "iopub.status.idle": "2021-11-01T09:38:27.333295Z",
     "shell.execute_reply": "2021-11-01T09:38:27.333849Z",
     "shell.execute_reply.started": "2021-10-31T14:41:36.180428Z"
    },
    "papermill": {
     "duration": 0.060835,
     "end_time": "2021-11-01T09:38:27.334053",
     "exception": false,
     "start_time": "2021-11-01T09:38:27.273218",
     "status": "completed"
    },
    "tags": []
   },
   "outputs": [
    {
     "data": {
      "text/plain": [
       "((891, 7), (891,), (418, 7))"
      ]
     },
     "execution_count": 23,
     "metadata": {},
     "output_type": "execute_result"
    }
   ],
   "source": [
    "X_train = train.drop([\"Survived\",\"PassengerId\"], axis=1)\n",
    "Y_train = train[\"Survived\"]\n",
    "X_test  = test.drop(\"PassengerId\", axis=1).copy()\n",
    "\n",
    "\n",
    "X_train.shape, Y_train.shape, X_test.shape"
   ]
  },
  {
   "cell_type": "markdown",
   "id": "fc5e43a9",
   "metadata": {
    "papermill": {
     "duration": 0.048552,
     "end_time": "2021-11-01T09:38:27.429983",
     "exception": false,
     "start_time": "2021-11-01T09:38:27.381431",
     "status": "completed"
    },
    "tags": []
   },
   "source": [
    "Trying out different models"
   ]
  },
  {
   "cell_type": "code",
   "execution_count": 24,
   "id": "9b650184",
   "metadata": {
    "execution": {
     "iopub.execute_input": "2021-11-01T09:38:27.526744Z",
     "iopub.status.busy": "2021-11-01T09:38:27.526087Z",
     "iopub.status.idle": "2021-11-01T09:38:28.016660Z",
     "shell.execute_reply": "2021-11-01T09:38:28.015951Z",
     "shell.execute_reply.started": "2021-10-31T14:41:36.192263Z"
    },
    "papermill": {
     "duration": 0.539879,
     "end_time": "2021-11-01T09:38:28.016819",
     "exception": false,
     "start_time": "2021-11-01T09:38:27.476940",
     "status": "completed"
    },
    "tags": []
   },
   "outputs": [
    {
     "data": {
      "text/plain": [
       "0.8507295173961841"
      ]
     },
     "execution_count": 24,
     "metadata": {},
     "output_type": "execute_result"
    }
   ],
   "source": [
    "## KNN prediction test\n",
    "from sklearn.neighbors import KNeighborsClassifier\n",
    "\n",
    "knn = KNeighborsClassifier(n_neighbors = 3)\n",
    "knn.fit(X_train, Y_train)\n",
    "predn_knn = knn.predict(X_test)\n",
    "acc_knn = knn.score(X_train, Y_train)\n",
    "\n",
    "acc_knn"
   ]
  },
  {
   "cell_type": "code",
   "execution_count": 25,
   "id": "4318d393",
   "metadata": {
    "execution": {
     "iopub.execute_input": "2021-11-01T09:38:28.114767Z",
     "iopub.status.busy": "2021-11-01T09:38:28.114091Z",
     "iopub.status.idle": "2021-11-01T09:38:28.155192Z",
     "shell.execute_reply": "2021-11-01T09:38:28.154518Z",
     "shell.execute_reply.started": "2021-10-31T14:41:36.65658Z"
    },
    "papermill": {
     "duration": 0.091256,
     "end_time": "2021-11-01T09:38:28.155357",
     "exception": false,
     "start_time": "2021-11-01T09:38:28.064101",
     "status": "completed"
    },
    "tags": []
   },
   "outputs": [
    {
     "data": {
      "text/plain": [
       "0.8664421997755332"
      ]
     },
     "execution_count": 25,
     "metadata": {},
     "output_type": "execute_result"
    }
   ],
   "source": [
    "## Decision Tree test\n",
    "from sklearn.tree import DecisionTreeClassifier\n",
    "\n",
    "decision_tree = DecisionTreeClassifier()\n",
    "decision_tree.fit(X_train, Y_train)\n",
    "predn_dt = decision_tree.predict(X_test)\n",
    "acc_decision_tree = decision_tree.score(X_train, Y_train)\n",
    "\n",
    "acc_decision_tree"
   ]
  },
  {
   "cell_type": "code",
   "execution_count": 26,
   "id": "2da515bf",
   "metadata": {
    "execution": {
     "iopub.execute_input": "2021-11-01T09:38:28.256082Z",
     "iopub.status.busy": "2021-11-01T09:38:28.255286Z",
     "iopub.status.idle": "2021-11-01T09:38:28.577733Z",
     "shell.execute_reply": "2021-11-01T09:38:28.578339Z",
     "shell.execute_reply.started": "2021-10-31T14:41:36.695394Z"
    },
    "papermill": {
     "duration": 0.374495,
     "end_time": "2021-11-01T09:38:28.578539",
     "exception": false,
     "start_time": "2021-11-01T09:38:28.204044",
     "status": "completed"
    },
    "tags": []
   },
   "outputs": [
    {
     "data": {
      "text/plain": [
       "0.8664421997755332"
      ]
     },
     "execution_count": 26,
     "metadata": {},
     "output_type": "execute_result"
    }
   ],
   "source": [
    "# Random Forest Test\n",
    "from sklearn.ensemble import RandomForestClassifier\n",
    "\n",
    "random_forest = RandomForestClassifier(n_estimators=100)\n",
    "random_forest.fit(X_train, Y_train)\n",
    "predn_rf = random_forest.predict(X_test)\n",
    "random_forest.score(X_train, Y_train)\n",
    "acc_random_forest = random_forest.score(X_train, Y_train)\n",
    "\n",
    "acc_random_forest"
   ]
  },
  {
   "cell_type": "code",
   "execution_count": 27,
   "id": "948ba781",
   "metadata": {
    "execution": {
     "iopub.execute_input": "2021-11-01T09:38:28.688195Z",
     "iopub.status.busy": "2021-11-01T09:38:28.682584Z",
     "iopub.status.idle": "2021-11-01T09:38:28.806652Z",
     "shell.execute_reply": "2021-11-01T09:38:28.805987Z",
     "shell.execute_reply.started": "2021-10-31T14:41:37.005549Z"
    },
    "papermill": {
     "duration": 0.17807,
     "end_time": "2021-11-01T09:38:28.806814",
     "exception": false,
     "start_time": "2021-11-01T09:38:28.628744",
     "status": "completed"
    },
    "tags": []
   },
   "outputs": [
    {
     "data": {
      "text/plain": [
       "0.8395061728395061"
      ]
     },
     "execution_count": 27,
     "metadata": {},
     "output_type": "execute_result"
    }
   ],
   "source": [
    "## Gradient Boosting Test\n",
    "from sklearn.ensemble import GradientBoostingClassifier\n",
    "\n",
    "GradientBoosting = GradientBoostingClassifier(n_estimators=100)\n",
    "GradientBoosting.fit(X_train, Y_train)\n",
    "predn_gb = GradientBoosting.predict(X_test)\n",
    "GradientBoosting.score(X_train, Y_train)\n",
    "acc_GradientBoosting = GradientBoosting.score(X_train, Y_train)\n",
    "\n",
    "acc_GradientBoosting\n"
   ]
  },
  {
   "cell_type": "code",
   "execution_count": 28,
   "id": "491930f6",
   "metadata": {
    "execution": {
     "iopub.execute_input": "2021-11-01T09:38:28.907931Z",
     "iopub.status.busy": "2021-11-01T09:38:28.907120Z",
     "iopub.status.idle": "2021-11-01T09:38:28.963309Z",
     "shell.execute_reply": "2021-11-01T09:38:28.962297Z",
     "shell.execute_reply.started": "2021-10-31T14:41:37.129266Z"
    },
    "papermill": {
     "duration": 0.108346,
     "end_time": "2021-11-01T09:38:28.963468",
     "exception": false,
     "start_time": "2021-11-01T09:38:28.855122",
     "status": "completed"
    },
    "tags": []
   },
   "outputs": [
    {
     "data": {
      "text/plain": [
       "0.813692480359147"
      ]
     },
     "execution_count": 28,
     "metadata": {},
     "output_type": "execute_result"
    }
   ],
   "source": [
    "## SVM\n",
    "from sklearn.svm import SVC\n",
    "from sklearn.pipeline import make_pipeline\n",
    "from sklearn.preprocessing import StandardScaler\n",
    "\n",
    "clf = make_pipeline(StandardScaler(), SVC(gamma='auto'))\n",
    "clf.fit(X_train, Y_train)\n",
    "predn_svc = clf.predict(X_test)\n",
    "\n",
    "acc_svc = clf.score(X_train, Y_train)\n",
    "\n",
    "acc_svc"
   ]
  },
  {
   "cell_type": "code",
   "execution_count": 29,
   "id": "fe808ceb",
   "metadata": {
    "execution": {
     "iopub.execute_input": "2021-11-01T09:38:29.067988Z",
     "iopub.status.busy": "2021-11-01T09:38:29.067077Z",
     "iopub.status.idle": "2021-11-01T09:38:29.474024Z",
     "shell.execute_reply": "2021-11-01T09:38:29.474690Z",
     "shell.execute_reply.started": "2021-10-31T14:41:37.19032Z"
    },
    "papermill": {
     "duration": 0.461687,
     "end_time": "2021-11-01T09:38:29.474883",
     "exception": false,
     "start_time": "2021-11-01T09:38:29.013196",
     "status": "completed"
    },
    "tags": []
   },
   "outputs": [
    {
     "data": {
      "text/plain": [
       "0.8630751964085297"
      ]
     },
     "execution_count": 29,
     "metadata": {},
     "output_type": "execute_result"
    }
   ],
   "source": [
    "## Voting Classifier Test\n",
    "from sklearn.ensemble import VotingClassifier\n",
    "\n",
    "ensemble = VotingClassifier(estimators=[('KNN', KNeighborsClassifier(n_neighbors=3)),\n",
    "                                        ('GB',GradientBoostingClassifier(n_estimators=100)),\n",
    "                                        ('RF', RandomForestClassifier(n_estimators=100, random_state=0)),\n",
    "                                        ('DT', DecisionTreeClassifier(random_state=0)),],\n",
    "                           voting='soft').fit(X_train, Y_train)\n",
    "predn_vc = ensemble.predict(X_test)\n",
    "\n",
    "acc_vc = ensemble.score(X_train, Y_train)\n",
    "\n",
    "acc_vc"
   ]
  },
  {
   "cell_type": "markdown",
   "id": "e101a396",
   "metadata": {
    "papermill": {
     "duration": 0.050071,
     "end_time": "2021-11-01T09:38:29.574856",
     "exception": false,
     "start_time": "2021-11-01T09:38:29.524785",
     "status": "completed"
    },
    "tags": []
   },
   "source": [
    "Table to calculate percentage accuracy for training dataset"
   ]
  },
  {
   "cell_type": "code",
   "execution_count": 30,
   "id": "2d6e4a4b",
   "metadata": {
    "execution": {
     "iopub.execute_input": "2021-11-01T09:38:29.676941Z",
     "iopub.status.busy": "2021-11-01T09:38:29.676236Z",
     "iopub.status.idle": "2021-11-01T09:38:29.687251Z",
     "shell.execute_reply": "2021-11-01T09:38:29.686559Z",
     "shell.execute_reply.started": "2021-10-31T14:41:37.579804Z"
    },
    "papermill": {
     "duration": 0.063731,
     "end_time": "2021-11-01T09:38:29.687414",
     "exception": false,
     "start_time": "2021-11-01T09:38:29.623683",
     "status": "completed"
    },
    "tags": []
   },
   "outputs": [
    {
     "name": "stdout",
     "output_type": "stream",
     "text": [
      "               Model      Score\n",
      "0                KNN  85.072952\n",
      "1      Random Forest  86.644220\n",
      "2      Decision Tree  86.644220\n",
      "3   GradientBoosting  83.950617\n",
      "4                SVC  81.369248\n",
      "5  Voting Classifier  86.307520\n"
     ]
    }
   ],
   "source": [
    "table = pd.DataFrame({\n",
    "    'Model': ['KNN','Random Forest','Decision Tree','GradientBoosting','SVC','Voting Classifier'],\n",
    "    'Score': [ acc_knn, acc_random_forest, acc_decision_tree , acc_GradientBoosting,acc_svc,acc_vc]})\n",
    "table['Score'] = table['Score']*100\n",
    "\n",
    "print(table)\n",
    "\n",
    "\n"
   ]
  },
  {
   "cell_type": "code",
   "execution_count": 31,
   "id": "e9919376",
   "metadata": {
    "execution": {
     "iopub.execute_input": "2021-11-01T09:38:29.795121Z",
     "iopub.status.busy": "2021-11-01T09:38:29.794398Z",
     "iopub.status.idle": "2021-11-01T09:38:29.796218Z",
     "shell.execute_reply": "2021-11-01T09:38:29.796862Z",
     "shell.execute_reply.started": "2021-10-31T14:41:37.591051Z"
    },
    "papermill": {
     "duration": 0.05932,
     "end_time": "2021-11-01T09:38:29.797061",
     "exception": false,
     "start_time": "2021-11-01T09:38:29.737741",
     "status": "completed"
    },
    "tags": []
   },
   "outputs": [],
   "source": [
    "# submission = pd.DataFrame({\n",
    "#         \"PassengerId\": test[\"PassengerId\"],\n",
    "#         \"Survived\": predn_gb\n",
    "#     })\n",
    "\n",
    "# submission.to_csv(\"submission.csv\" , index = False)\n",
    "\n",
    "# submission"
   ]
  },
  {
   "cell_type": "markdown",
   "id": "9db84b97",
   "metadata": {
    "papermill": {
     "duration": 0.04989,
     "end_time": "2021-11-01T09:38:29.897791",
     "exception": false,
     "start_time": "2021-11-01T09:38:29.847901",
     "status": "completed"
    },
    "tags": []
   },
   "source": [
    "**If you find this notebook useful, support with an upvote👍**"
   ]
  }
 ],
 "metadata": {
  "kernelspec": {
   "display_name": "Python 3",
   "language": "python",
   "name": "python3"
  },
  "language_info": {
   "codemirror_mode": {
    "name": "ipython",
    "version": 3
   },
   "file_extension": ".py",
   "mimetype": "text/x-python",
   "name": "python",
   "nbconvert_exporter": "python",
   "pygments_lexer": "ipython3",
   "version": "3.7.10"
  },
  "papermill": {
   "default_parameters": {},
   "duration": 17.860591,
   "end_time": "2021-11-01T09:38:30.659283",
   "environment_variables": {},
   "exception": null,
   "input_path": "__notebook__.ipynb",
   "output_path": "__notebook__.ipynb",
   "parameters": {},
   "start_time": "2021-11-01T09:38:12.798692",
   "version": "2.3.3"
  }
 },
 "nbformat": 4,
 "nbformat_minor": 5
}
